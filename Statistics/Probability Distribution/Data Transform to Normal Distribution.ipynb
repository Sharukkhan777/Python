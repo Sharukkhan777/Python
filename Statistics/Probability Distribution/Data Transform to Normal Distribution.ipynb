{
 "cells": [
  {
   "cell_type": "markdown",
   "metadata": {},
   "source": [
    "# Data Transform to Normal Distribution"
   ]
  },
  {
   "cell_type": "markdown",
   "metadata": {},
   "source": [
    "Content:\n",
    "\n",
    "    1) Overview\n",
    "    \n",
    "    2) Define the Function\n",
    "    \n",
    "    3) Example\n",
    "    "
   ]
  },
  {
   "cell_type": "markdown",
   "metadata": {},
   "source": [
    "### 1) Overview"
   ]
  },
  {
   "cell_type": "code",
   "execution_count": 130,
   "metadata": {},
   "outputs": [],
   "source": [
    "from numpy.random import seed\n",
    "from numpy.random import randn\n",
    "from numpy import exp\n",
    "import numpy as np\n",
    "from matplotlib import pyplot\n",
    "from scipy import stats\n",
    "import matplotlib.pyplot as plt\n",
    "from scipy.stats import boxcox\n",
    "from scipy.stats import shapiro\n",
    "import pandas as pd\n",
    "%matplotlib inline"
   ]
  },
  {
   "cell_type": "code",
   "execution_count": 43,
   "metadata": {},
   "outputs": [],
   "source": [
    "# data\n",
    "data = np.random.normal(10,1,1000)"
   ]
  },
  {
   "cell_type": "code",
   "execution_count": 44,
   "metadata": {},
   "outputs": [
    {
     "data": {
      "text/plain": [
       "(0.9985837936401367, 0.61014723777771)"
      ]
     },
     "execution_count": 44,
     "metadata": {},
     "output_type": "execute_result"
    },
    {
     "data": {
      "image/png": "[encoded data removed]",
      "text/plain": [
       "<Figure size 432x288 with 1 Axes>"
      ]
     },
     "metadata": {
      "needs_background": "light"
     },
     "output_type": "display_data"
    }
   ],
   "source": [
    "# plot the real data\n",
    "plt.hist(data)\n",
    "# if second argument (p-value) is greater than 0.05, the given data is normal, \n",
    "# Since the Null Hypothesis H0: \"The data is normal\"\n",
    "stats.shapiro(data)"
   ]
  },
  {
   "cell_type": "code",
   "execution_count": 35,
   "metadata": {},
   "outputs": [
    {
     "data": {
      "image/png": "[encoded data removed]",
      "text/plain": [
       "<Figure size 432x288 with 1 Axes>"
      ]
     },
     "metadata": {
      "needs_background": "light"
     },
     "output_type": "display_data"
    }
   ],
   "source": [
    "# just for reference\n",
    "from skimage import io\n",
    "io.imshow(io.imread(\"https://www.sigmamagic.com/blogs/images/trans3.png\"))\n",
    "io.show()"
   ]
  },
  {
   "cell_type": "markdown",
   "metadata": {},
   "source": [
    "### 2) Define the Function"
   ]
  },
  {
   "cell_type": "code",
   "execution_count": 126,
   "metadata": {},
   "outputs": [],
   "source": [
    "def Transform_the_data(data):\n",
    "    Lambda_values = [-3,-2,-1,-0.5,0,0.5,1,2,3]\n",
    "    Lambda_meaning = ['Inverse Cube','Inverse Square','Inverse','Inverse Square Root','Logarithmi with base with 10 or 2 or exp It gives the same p-value','Square Root','No Transformation','Square','Cube']\n",
    "    df = {}\n",
    "    shapiro_values = []\n",
    "    p_value_greater_than_alpha = []\n",
    "    for i in Lambda_values:\n",
    "        data_transformed = boxcox(data,i)\n",
    "        # shapiro p-value is greater than 0.05\n",
    "        W_statistic, p_value = shapiro(data_transformed)\n",
    "        shapiro_values.append(p_value)\n",
    "        if p_value > 0.05:\n",
    "            p_value_greater_than_alpha.append(\"Normal\")\n",
    "        else:\n",
    "            p_value_greater_than_alpha.append(\"Non_Normal\")\n",
    "\n",
    "    # create a dataframe\n",
    "    df['Lambda_values'] = Lambda_values\n",
    "    df['Lambda_meaning'] = Lambda_meaning\n",
    "    df['shapiro_p_values'] = shapiro_values\n",
    "    df['Normal_or_Non_Normal'] = p_value_greater_than_alpha\n",
    "    df = pd.DataFrame(df)\n",
    "    # sort the data \n",
    "    df = df.sort_values('shapiro_p_values',ascending = False)\n",
    "    return df"
   ]
  },
  {
   "cell_type": "markdown",
   "metadata": {},
   "source": [
    "### 3) Example"
   ]
  },
  {
   "cell_type": "code",
   "execution_count": 136,
   "metadata": {},
   "outputs": [],
   "source": [
    "# Defining the data\n",
    "\n",
    "# Here we can use series or list format of the data\n",
    "data = pd.Series([1,2,3,4,5,6,5,4,1,2,3,6,5,4,2,3,6,4,5,4,7,8,9,8,4,2,3,6,5,5,2,3,6,4,2,3,3,6,5,2,1,4])"
   ]
  },
  {
   "cell_type": "code",
   "execution_count": 134,
   "metadata": {},
   "outputs": [
    {
     "data": {
      "image/png": "[encoded data removed]",
      "text/plain": [
       "<Figure size 432x288 with 1 Axes>"
      ]
     },
     "metadata": {
      "needs_background": "light"
     },
     "output_type": "display_data"
    }
   ],
   "source": [
    "# plotting the data \n",
    "plt.hist(data,bins = 100)\n",
    "plt.show()"
   ]
  },
  {
   "cell_type": "code",
   "execution_count": 135,
   "metadata": {},
   "outputs": [
    {
     "data": {
      "text/html": [
       "<div>\n",
       "<style scoped>\n",
       "    .dataframe tbody tr th:only-of-type {\n",
       "        vertical-align: middle;\n",
       "    }\n",
       "\n",
       "    .dataframe tbody tr th {\n",
       "        vertical-align: top;\n",
       "    }\n",
       "\n",
       "    .dataframe thead th {\n",
       "        text-align: right;\n",
       "    }\n",
       "</style>\n",
       "<table border=\"1\" class=\"dataframe\">\n",
       "  <thead>\n",
       "    <tr style=\"text-align: right;\">\n",
       "      <th></th>\n",
       "      <th>Lambda_values</th>\n",
       "      <th>Lambda_meaning</th>\n",
       "      <th>shapiro_p_values</th>\n",
       "      <th>Normal_or_Non_Normal</th>\n",
       "    </tr>\n",
       "  </thead>\n",
       "  <tbody>\n",
       "    <tr>\n",
       "      <th>5</th>\n",
       "      <td>0.5</td>\n",
       "      <td>Square Root</td>\n",
       "      <td>1.999957e-01</td>\n",
       "      <td>Normal</td>\n",
       "    </tr>\n",
       "    <tr>\n",
       "      <th>6</th>\n",
       "      <td>1.0</td>\n",
       "      <td>No Transformation</td>\n",
       "      <td>8.891086e-02</td>\n",
       "      <td>Normal</td>\n",
       "    </tr>\n",
       "    <tr>\n",
       "      <th>4</th>\n",
       "      <td>0.0</td>\n",
       "      <td>Logarithmi with base with 10 or 2 or exp It gi...</td>\n",
       "      <td>1.150431e-02</td>\n",
       "      <td>Non_Normal</td>\n",
       "    </tr>\n",
       "    <tr>\n",
       "      <th>7</th>\n",
       "      <td>2.0</td>\n",
       "      <td>Square</td>\n",
       "      <td>6.229225e-05</td>\n",
       "      <td>Non_Normal</td>\n",
       "    </tr>\n",
       "    <tr>\n",
       "      <th>3</th>\n",
       "      <td>-0.5</td>\n",
       "      <td>Inverse Square Root</td>\n",
       "      <td>5.419059e-05</td>\n",
       "      <td>Non_Normal</td>\n",
       "    </tr>\n",
       "    <tr>\n",
       "      <th>2</th>\n",
       "      <td>-1.0</td>\n",
       "      <td>Inverse</td>\n",
       "      <td>2.651478e-07</td>\n",
       "      <td>Non_Normal</td>\n",
       "    </tr>\n",
       "    <tr>\n",
       "      <th>8</th>\n",
       "      <td>3.0</td>\n",
       "      <td>Cube</td>\n",
       "      <td>9.758186e-08</td>\n",
       "      <td>Non_Normal</td>\n",
       "    </tr>\n",
       "    <tr>\n",
       "      <th>1</th>\n",
       "      <td>-2.0</td>\n",
       "      <td>Inverse Square</td>\n",
       "      <td>2.046519e-10</td>\n",
       "      <td>Non_Normal</td>\n",
       "    </tr>\n",
       "    <tr>\n",
       "      <th>0</th>\n",
       "      <td>-3.0</td>\n",
       "      <td>Inverse Cube</td>\n",
       "      <td>7.308305e-12</td>\n",
       "      <td>Non_Normal</td>\n",
       "    </tr>\n",
       "  </tbody>\n",
       "</table>\n",
       "</div>"
      ],
      "text/plain": [
       "   Lambda_values                                     Lambda_meaning  \\\n",
       "5            0.5                                        Square Root   \n",
       "6            1.0                                  No Transformation   \n",
       "4            0.0  Logarithmi with base with 10 or 2 or exp It gi...   \n",
       "7            2.0                                             Square   \n",
       "3           -0.5                                Inverse Square Root   \n",
       "2           -1.0                                            Inverse   \n",
       "8            3.0                                               Cube   \n",
       "1           -2.0                                     Inverse Square   \n",
       "0           -3.0                                       Inverse Cube   \n",
       "\n",
       "   shapiro_p_values Normal_or_Non_Normal  \n",
       "5      1.999957e-01               Normal  \n",
       "6      8.891086e-02               Normal  \n",
       "4      1.150431e-02           Non_Normal  \n",
       "7      6.229225e-05           Non_Normal  \n",
       "3      5.419059e-05           Non_Normal  \n",
       "2      2.651478e-07           Non_Normal  \n",
       "8      9.758186e-08           Non_Normal  \n",
       "1      2.046519e-10           Non_Normal  \n",
       "0      7.308305e-12           Non_Normal  "
      ]
     },
     "execution_count": 135,
     "metadata": {},
     "output_type": "execute_result"
    }
   ],
   "source": [
    "# use the function\n",
    "Transform_the_data(data)"
   ]
  },
  {
   "cell_type": "code",
   "execution_count": null,
   "metadata": {},
   "outputs": [],
   "source": []
  }
 ],
 "metadata": {
  "kernelspec": {
   "display_name": "Python 3",
   "language": "python",
   "name": "python3"
  },
  "language_info": {
   "codemirror_mode": {
    "name": "ipython",
    "version": 3
   },
   "file_extension": ".py",
   "mimetype": "text/x-python",
   "name": "python",
   "nbconvert_exporter": "python",
   "pygments_lexer": "ipython3",
   "version": "3.7.1"
  }
 },
 "nbformat": 4,
 "nbformat_minor": 2
}
