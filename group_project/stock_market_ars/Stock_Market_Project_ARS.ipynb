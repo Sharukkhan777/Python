{
  "nbformat": 4,
  "nbformat_minor": 0,
  "metadata": {
    "colab": {
      "name": "Stock Market Project ARS.ipynb",
      "provenance": [],
      "collapsed_sections": []
    },
    "kernelspec": {
      "name": "python3",
      "display_name": "Python 3"
    },
    "language_info": {
      "name": "python"
    }
  },
  "cells": [
    {
      "cell_type": "code",
      "metadata": {
        "id": "u7uzhRuzLmYi"
      },
      "source": [
        "# Review Scrapper \n",
        "# input the below 3 inputs correctly and\n",
        "# see result in Variable Explorer.\n",
        "\n",
        "#------------------------------\n",
        "url_list = [\"https://economictimes.indiatimes.com/housing-development-finance-corporation-ltd/stocksupdate/companyid-13640.cms\"]\n",
        "\n",
        "# Enter after \n",
        "block_class_name = \"eachStory\"\n",
        "#------------------------------\n",
        "\n",
        "import requests\n",
        "from bs4 import BeautifulSoup as bs\n",
        "from urllib.request import urlopen as uReq\n",
        "import urllib.request\n",
        "user_agent = 'Mozilla/5.0 (Windows; U; Windows NT 5.1; en-US; rv:1.9.0.7) Gecko/2009021910 Firefox/3.0.7'\n",
        "url = url_list[0]\n",
        "headers={'User-Agent':user_agent,} \n",
        "request=urllib.request.Request(url,None,headers) #The assembled request\n",
        "response = urllib.request.urlopen(request)\n",
        "htmlPage = response.read() # The data u need\n",
        "html_data = bs(htmlPage, \"html.parser\")\n",
        "bigboxes = html_data.findAll(\"div\", {\"class\": block_class_name}) # seacrhing for appropriate tag to redirect to the product link"
      ],
      "execution_count": null,
      "outputs": []
    },
    {
      "cell_type": "code",
      "metadata": {
        "colab": {
          "base_uri": "https://localhost:8080/"
        },
        "id": "oqq85J_BNXvn",
        "outputId": "fb9c200f-e2d3-41b1-8f85-d184890f7841"
      },
      "source": [
        "full_news = []\n",
        "for i in range(1,11):\n",
        "    try:\n",
        "        news_txt = bigboxes[i].p.text\n",
        "        full_news.append(news_txt)\n",
        "    except:\n",
        "        continue\n",
        "full_news"
      ],
      "execution_count": null,
      "outputs": [
        {
          "output_type": "execute_result",
          "data": {
            "text/plain": [
              "['Intimation in terms of Regulation 39(3) of the SEBI (Listing Obligations and Disclosure Requirements) Regulations, 2015 regarding issue of duplicate share certificate.',\n",
              " 'Publication of Notice in newspapers containing un-audited financial results of the Corporation for the quarter ended June 30, 2021',\n",
              " 'Rajendra Rao, founder, Aurore Life Sciences has been appointed as Executive Chairman and Vice-Chairman Designate, while the founder of the company Arun Kumar has joined as non-executive director.',\n",
              " 'Nifty50 formed a bullish candle on the daily scale and is forming higher highs and lows since the past five sessions.',\n",
              " \"HDFC said Ansal Housing's turnover for the year ended March 31, 2021, was Rs 139.03 crore and its net worth is Rs 170 crore.\",\n",
              " 'Intimation under Regulation 30 of the Securities and Exchange Board of India (Listing Obligations and Disclosure Requirements) Regulation?, 2015 - Invocation of pledge on \\n share of Ansal Housing Limited by the Corporation',\n",
              " 'Intimation under Regulation 30 of the Securities and Exchange Board of India (Listing Obligations and Disclosure Requirements) Regulation?, 2015 - Invocation of pledge on \\n share of Ansal Housing Limited by the Corporation',\n",
              " 'The NSE Nifty index was trading 130.05 points up at 16260.8',\n",
              " 'Housing Development Finance Corporation Ltd., incorporated in the year 1977, is a Large Cap company (having a market cap of Rs 469495.84 Crore) operating in NBFC sector.',\n",
              " 'FIIs, often regarded as representing smart money, have been pushed back by the sheer momentum of retail investors.']"
            ]
          },
          "metadata": {
            "tags": []
          },
          "execution_count": 34
        }
      ]
    },
    {
      "cell_type": "code",
      "metadata": {
        "colab": {
          "base_uri": "https://localhost:8080/"
        },
        "id": "cVzSpWy0PGPm",
        "outputId": "a0d043cc-912b-463a-9991-55294656132f"
      },
      "source": [
        "#drop duplicates in list\n",
        "def drop_duplicates_in_list(lst):\n",
        "    mylst = []\n",
        "    for i in lst:\n",
        "        if i in mylst:\n",
        "            continue\n",
        "        else:\n",
        "            mylst.append(i)\n",
        "    return mylst\n",
        "\n",
        "result = drop_duplicates_in_list(full_news)\n",
        "result"
      ],
      "execution_count": null,
      "outputs": [
        {
          "output_type": "execute_result",
          "data": {
            "text/plain": [
              "['Intimation in terms of Regulation 39(3) of the SEBI (Listing Obligations and Disclosure Requirements) Regulations, 2015 regarding issue of duplicate share certificate.',\n",
              " 'Publication of Notice in newspapers containing un-audited financial results of the Corporation for the quarter ended June 30, 2021',\n",
              " 'Rajendra Rao, founder, Aurore Life Sciences has been appointed as Executive Chairman and Vice-Chairman Designate, while the founder of the company Arun Kumar has joined as non-executive director.',\n",
              " 'Nifty50 formed a bullish candle on the daily scale and is forming higher highs and lows since the past five sessions.',\n",
              " \"HDFC said Ansal Housing's turnover for the year ended March 31, 2021, was Rs 139.03 crore and its net worth is Rs 170 crore.\",\n",
              " 'Intimation under Regulation 30 of the Securities and Exchange Board of India (Listing Obligations and Disclosure Requirements) Regulation?, 2015 - Invocation of pledge on \\n share of Ansal Housing Limited by the Corporation',\n",
              " 'The NSE Nifty index was trading 130.05 points up at 16260.8',\n",
              " 'Housing Development Finance Corporation Ltd., incorporated in the year 1977, is a Large Cap company (having a market cap of Rs 469495.84 Crore) operating in NBFC sector.',\n",
              " 'FIIs, often regarded as representing smart money, have been pushed back by the sheer momentum of retail investors.']"
            ]
          },
          "metadata": {
            "tags": []
          },
          "execution_count": 35
        }
      ]
    },
    {
      "cell_type": "code",
      "metadata": {
        "colab": {
          "base_uri": "https://localhost:8080/"
        },
        "id": "aE3aTR8gRcMS",
        "outputId": "a63c5381-aa15-42b7-ee69-298c8953633b"
      },
      "source": [
        "from textblob import TextBlob\n",
        "import pandas as pd\n",
        "# change to df\n",
        "df = pd.DataFrame({\"Review\":result})\n",
        "lst_of_polarity = []\n",
        "lst_of_good_and_bad_comments = []\n",
        "for i in range(df.shape[0]):\n",
        "    text = df['Review'][i]\n",
        "    obj = TextBlob(text)\n",
        "    sentiment = obj.sentiment.polarity\n",
        "    lst_of_polarity.append(sentiment)\n",
        "    if sentiment <= 0:\n",
        "        lst_of_good_and_bad_comments.append(\"Bad\")\n",
        "    else:\n",
        "        lst_of_good_and_bad_comments.append(\"Good\")\n",
        "df[\"Polarity\"] = lst_of_polarity\n",
        "df[\"Good_or_Bad_based_on_polarity\"] = lst_of_good_and_bad_comments\n",
        "\n",
        "# print essential parameters\n",
        "\n",
        "# avg polarity\n",
        "avg_polarity = df['Polarity'].mean()\n",
        "print(avg_polarity)\n",
        "# Good and Bad\n",
        "Good_and_Bad = df[\"Good_or_Bad_based_on_polarity\"].value_counts()\n",
        "print(Good_and_Bad)"
      ],
      "execution_count": null,
      "outputs": [
        {
          "output_type": "stream",
          "text": [
            "0.04047619047619047\n",
            "Bad     6\n",
            "Good    3\n",
            "Name: Good_or_Bad_based_on_polarity, dtype: int64\n"
          ],
          "name": "stdout"
        }
      ]
    },
    {
      "cell_type": "code",
      "metadata": {
        "id": "Vs7Wa6nmRooz"
      },
      "source": [
        ""
      ],
      "execution_count": null,
      "outputs": []
    }
  ]
}