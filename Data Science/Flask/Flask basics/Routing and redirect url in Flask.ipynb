{
 "cells": [
  {
   "cell_type": "markdown",
   "metadata": {},
   "source": [
    "### Routing "
   ]
  },
  {
   "cell_type": "raw",
   "metadata": {},
   "source": [
    "Tech with tim tutorial 1 - Intro simple home page application\n",
    "\n",
    "https://www.youtube.com/watch?v=mqhxxeeTbu0&list=PLzMcBGfZo4-n4vJJybUVV3Un_NFS5EOgX"
   ]
  },
  {
   "cell_type": "code",
   "execution_count": 3,
   "metadata": {},
   "outputs": [
    {
     "name": "stdout",
     "output_type": "stream",
     "text": [
      " * Serving Flask app \"__main__\" (lazy loading)\n",
      " * Environment: production\n",
      "   WARNING: Do not use the development server in a production environment.\n",
      "   Use a production WSGI server instead.\n",
      " * Debug mode: off\n"
     ]
    },
    {
     "name": "stderr",
     "output_type": "stream",
     "text": [
      " * Running on http://127.0.0.1:5000/ (Press CTRL+C to quit)\n",
      "127.0.0.1 - - [25/Oct/2020 20:48:51] \"GET / HTTP/1.1\" 200 -\n",
      "127.0.0.1 - - [25/Oct/2020 20:48:58] \"GET /sharuk HTTP/1.1\" 200 -\n"
     ]
    }
   ],
   "source": [
    "from flask import Flask\n",
    "\n",
    "app = Flask(__name__)\n",
    "\n",
    "@app.route(\"/\")\n",
    "def home():\n",
    "    return \"Hello!!!<h1>Heading 1</h1>\"\n",
    "\n",
    "##################################\n",
    "\n",
    "@app.route(\"/<name>\")\n",
    "def user(name):\n",
    "    return f\"Hello {name}!!!\"\n",
    "\n",
    "# if you paste\n",
    "# http://127.0.0.1:5000/sharuk \n",
    "# it prints Hello sharuk!!!\n",
    "\n",
    "##################################\n",
    "\n",
    "if __name__ ==\"__main__\":\n",
    "    app.run()"
   ]
  },
  {
   "cell_type": "markdown",
   "metadata": {},
   "source": [
    "#### You can run this via cmd "
   ]
  },
  {
   "cell_type": "raw",
   "metadata": {},
   "source": [
    "> cd <--copy your file location and paste here and press enter-->\n",
    "> python \"filename.py\""
   ]
  },
  {
   "cell_type": "markdown",
   "metadata": {},
   "source": [
    "### Redirect the page"
   ]
  },
  {
   "cell_type": "code",
   "execution_count": 4,
   "metadata": {},
   "outputs": [
    {
     "name": "stdout",
     "output_type": "stream",
     "text": [
      " * Serving Flask app \"__main__\" (lazy loading)\n",
      " * Environment: production\n",
      "   WARNING: Do not use the development server in a production environment.\n",
      "   Use a production WSGI server instead.\n",
      " * Debug mode: off\n"
     ]
    },
    {
     "name": "stderr",
     "output_type": "stream",
     "text": [
      " * Running on http://127.0.0.1:5000/ (Press CTRL+C to quit)\n",
      "127.0.0.1 - - [25/Oct/2020 21:46:27] \"GET / HTTP/1.1\" 200 -\n",
      "127.0.0.1 - - [25/Oct/2020 21:46:35] \"GET /admin HTTP/1.1\" 302 -\n",
      "127.0.0.1 - - [25/Oct/2020 21:46:35] \"GET / HTTP/1.1\" 200 -\n"
     ]
    }
   ],
   "source": [
    "from flask import Flask, redirect, url_for\n",
    "\n",
    "app = Flask(__name__)\n",
    "\n",
    "@app.route(\"/\")\n",
    "def home():\n",
    "    return \"Hello!!!<h1>Heading 1</h1>\"\n",
    "\n",
    "##################################\n",
    "@app.route(\"/admin\")\n",
    "def admin_():\n",
    "    return redirect(url_for(\"home\"))\n",
    "    \n",
    "\n",
    "##################################\n",
    "\n",
    "if __name__ ==\"__main__\":\n",
    "    app.run()"
   ]
  },
  {
   "cell_type": "code",
   "execution_count": null,
   "metadata": {},
   "outputs": [],
   "source": []
  }
 ],
 "metadata": {
  "kernelspec": {
   "display_name": "Python 3",
   "language": "python",
   "name": "python3"
  },
  "language_info": {
   "codemirror_mode": {
    "name": "ipython",
    "version": 3
   },
   "file_extension": ".py",
   "mimetype": "text/x-python",
   "name": "python",
   "nbconvert_exporter": "python",
   "pygments_lexer": "ipython3",
   "version": "3.7.1"
  }
 },
 "nbformat": 4,
 "nbformat_minor": 2
}
