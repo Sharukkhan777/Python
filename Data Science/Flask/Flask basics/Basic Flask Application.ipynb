{
 "cells": [
  {
   "cell_type": "markdown",
   "metadata": {},
   "source": [
    "### Basic template for flask"
   ]
  },
  {
   "cell_type": "raw",
   "metadata": {},
   "source": [
    "Tech with tim tutorial 1 - Intro simple home page application\n",
    "\n",
    "https://www.youtube.com/watch?v=mqhxxeeTbu0&list=PLzMcBGfZo4-n4vJJybUVV3Un_NFS5EOgX"
   ]
  },
  {
   "cell_type": "code",
   "execution_count": 7,
   "metadata": {},
   "outputs": [
    {
     "name": "stdout",
     "output_type": "stream",
     "text": [
      " * Serving Flask app \"__main__\" (lazy loading)\n",
      " * Environment: production\n",
      "   WARNING: Do not use the development server in a production environment.\n",
      "   Use a production WSGI server instead.\n",
      " * Debug mode: off\n"
     ]
    },
    {
     "name": "stderr",
     "output_type": "stream",
     "text": [
      " * Running on http://127.0.0.1:5000/ (Press CTRL+C to quit)\n",
      "127.0.0.1 - - [10/Oct/2020 23:02:21] \"GET / HTTP/1.1\" 200 -\n"
     ]
    }
   ],
   "source": [
    "# import libraries\n",
    "from flask import Flask\n",
    "\n",
    "# If you are using a single module (as in this example),\n",
    "# you should use __name__ \n",
    "\n",
    "# This is needed so that Flask knows where to look for \n",
    "# templates, static files, and so on.\n",
    "app = Flask(__name__)\n",
    "\n",
    "# We then use the route() decorator to tell Flask \n",
    "# what URL should trigger our function.\n",
    "# Example (\"/home\"),  (\"/home/fruits/apple\")\n",
    "@app.route(\"/\")\n",
    "def home():\n",
    "    return \"Hello!!!<h1>Heading 1</h1>\"\n",
    "\n",
    "# to run the app\n",
    "if __name__ ==\"__main__\":\n",
    "    app.run(debug=True)"
   ]
  },
  {
   "cell_type": "markdown",
   "metadata": {},
   "source": [
    "#### Without comments (copy and paste this for easy)"
   ]
  },
  {
   "cell_type": "code",
   "execution_count": null,
   "metadata": {},
   "outputs": [],
   "source": [
    "from flask import Flask\n",
    "\n",
    "app = Flask(__name__)\n",
    "\n",
    "@app.route(\"/\")\n",
    "def home():\n",
    "    return \"Hello!!!<h1>Heading 1</h1>\"\n",
    "\n",
    "if __name__ ==\"__main__\":\n",
    "    app.run()"
   ]
  },
  {
   "cell_type": "markdown",
   "metadata": {},
   "source": [
    "#### You can run this via cmd "
   ]
  },
  {
   "cell_type": "raw",
   "metadata": {},
   "source": [
    "> cd <--copy your file location and paste here and press enter-->\n",
    "> python \"filename.py\""
   ]
  },
  {
   "cell_type": "code",
   "execution_count": null,
   "metadata": {},
   "outputs": [],
   "source": []
  }
 ],
 "metadata": {
  "kernelspec": {
   "display_name": "Python 3",
   "language": "python",
   "name": "python3"
  },
  "language_info": {
   "codemirror_mode": {
    "name": "ipython",
    "version": 3
   },
   "file_extension": ".py",
   "mimetype": "text/x-python",
   "name": "python",
   "nbconvert_exporter": "python",
   "pygments_lexer": "ipython3",
   "version": "3.7.1"
  }
 },
 "nbformat": 4,
 "nbformat_minor": 2
}
