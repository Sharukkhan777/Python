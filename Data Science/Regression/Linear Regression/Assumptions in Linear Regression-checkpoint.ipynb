{
 "cells": [
  {
   "cell_type": "markdown",
   "metadata": {},
   "source": [
    "# Assumptions by iNeu"
   ]
  },
  {
   "cell_type": "markdown",
   "metadata": {},
   "source": [
    "Let’s see the underlying assumptions: -\n",
    "* The regression model is linear in terms of coefficients and error term.\n",
    "* The mean of the residuals is zero.\n",
    "* The error terms are not correlated with each other, i.e. given an error value; we cannot predict the next error value.\n",
    "* The independent variables(x) are uncorrelated with the residual term, also termed as **exogeneity**. This, in layman term, generalises that in no way should the error term be predicted given the value of independent variables.\n",
    "* The error terms have a constant variance, i.e. **homoscedasticity**.\n",
    "* No Multicollinearity, i.e. no independent variables should be correlated with each other or affect one another. If there is multicollinearity, the precision of prediction by the OLS model decreases.\n",
    "* The error terms are normally distributed.\n"
   ]
  },
  {
   "cell_type": "markdown",
   "metadata": {},
   "source": [
    "### 1) Regression model is linear"
   ]
  },
  {
   "cell_type": "raw",
   "metadata": {},
   "source": [
    "1) Heatmap\n",
    "2) Pairplot\n",
    "3) Custom Function to Extract variables\n",
    "4) Hypothesis and p-value Method\n",
    "\n",
    "Source: https://github.com/Sharukkhan777/Python/blob/master/Data%20Science/Regression/Linear%20Regression/Linear%20Relationship%20with%20Dep%20var%20Y-checkpoint.ipynb"
   ]
  },
  {
   "cell_type": "markdown",
   "metadata": {},
   "source": [
    "### 2) Mean of the residuals is zero\n",
    "#### i) sklearn doesnt have the residuals (have to calculate in hand)\n",
    "#### ii) statsmodels.api have the residuals"
   ]
  },
  {
   "cell_type": "code",
   "execution_count": 1,
   "metadata": {},
   "outputs": [
    {
     "name": "stdout",
     "output_type": "stream",
     "text": [
      "7.032593549127695\n",
      "[0.04753664]\n"
     ]
    }
   ],
   "source": [
    "# i) sklearn doesnt have the residuals (have to calculate in hand)\n",
    "\n",
    "# necessary Imports\n",
    "import pandas as pd\n",
    "import matplotlib.pyplot as plt\n",
    "import pickle\n",
    "import warnings\n",
    "warnings.filterwarnings(\"ignore\")\n",
    "\n",
    "data= pd.read_csv('Advertising.csv') # Reading the data file\n",
    "\n",
    "# create X and y\n",
    "feature_cols = ['TV']\n",
    "X = data[feature_cols]\n",
    "y = data.sales\n",
    "\n",
    "# follow the usual sklearn pattern: import, instantiate, fit\n",
    "from sklearn.linear_model import LinearRegression\n",
    "lm = LinearRegression()\n",
    "lm.fit(X, y)\n",
    "# print intercept and coefficients\n",
    "print(lm.intercept_)\n",
    "print(lm.coef_)"
   ]
  },
  {
   "cell_type": "code",
   "execution_count": 2,
   "metadata": {},
   "outputs": [
    {
     "name": "stdout",
     "output_type": "stream",
     "text": [
      "const    7.113008\n",
      "TV       0.046110\n",
      "dtype: float64\n"
     ]
    }
   ],
   "source": [
    "# ii) statsmodels.api have the residuals\n",
    "\n",
    "import statsmodels.api as sm\n",
    "from sklearn.model_selection import train_test_split\n",
    "\n",
    "feature_cols = ['TV']\n",
    "X = sm.add_constant(data[feature_cols])\n",
    "y = data.sales\n",
    "\n",
    "train_X, test_X, train_y, test_y = train_test_split( X,\n",
    "                                                     y,\n",
    "                                                     train_size = 0.8,\n",
    "                                                     random_state = 100 )\n",
    "\n",
    "lm = sm.OLS( train_y, train_X ).fit()\n",
    "print( lm.params )"
   ]
  },
  {
   "cell_type": "markdown",
   "metadata": {},
   "source": [
    "##### Result"
   ]
  },
  {
   "cell_type": "code",
   "execution_count": 3,
   "metadata": {},
   "outputs": [
    {
     "data": {
      "text/plain": [
       "-0.0"
      ]
     },
     "execution_count": 3,
     "metadata": {},
     "output_type": "execute_result"
    }
   ],
   "source": [
    "# mean of the residuals are zero\n",
    "residuals = lm.resid\n",
    "round((residuals).mean(),2)"
   ]
  },
  {
   "cell_type": "markdown",
   "metadata": {},
   "source": [
    "### 3) The error terms are not correlated with each other, i.e. given an error value; we cannot predict the next error value.\n",
    "\n",
    "### Simply, No autocorrelation of residuals"
   ]
  },
  {
   "cell_type": "code",
   "execution_count": 4,
   "metadata": {},
   "outputs": [
    {
     "name": "stderr",
     "output_type": "stream",
     "text": [
      "C:\\Users\\SHARUK KHAN_2\\Anaconda3\\lib\\site-packages\\matplotlib\\figure.py:445: UserWarning: Matplotlib is currently using module://ipykernel.pylab.backend_inline, which is a non-GUI backend, so cannot show the figure.\n",
      "  % get_backend())\n"
     ]
    },
    {
     "data": {
      "image/png": "[encoded data removed]",
      "text/plain": [
       "<Figure size 432x288 with 1 Axes>"
      ]
     },
     "metadata": {
      "needs_background": "light"
     },
     "output_type": "display_data"
    }
   ],
   "source": [
    "\n",
    "import statsmodels.tsa.api as smt\n",
    "acf = smt.graphics.plot_acf(residuals, lags=40 , alpha=0.05)\n",
    "acf.show()"
   ]
  },
  {
   "cell_type": "markdown",
   "metadata": {},
   "source": [
    "##### Result"
   ]
  },
  {
   "cell_type": "raw",
   "metadata": {},
   "source": [
    "In the above diagram, X-axis is 0 Y is 1, Simply lag of 0, so correlation of itself is 1, =====Lag is 1, the vertical line (Autocorrelation) is inside the threshold(shaded region), its good======Lag is 2 inside threshold ,Good========Lag3,Good======Lag7, Bad Outside threshold======"
   ]
  },
  {
   "cell_type": "markdown",
   "metadata": {},
   "source": [
    "### 4) The independent variables(x) are uncorrelated with the residual term, also termed as exogeneity. This, in layman term, generalises that in no way should the error term be predicted given the value of independent variables."
   ]
  },
  {
   "cell_type": "code",
   "execution_count": 5,
   "metadata": {},
   "outputs": [],
   "source": [
    "###-----Not Sure --------\n",
    "# necessary Imports\n",
    "import pandas as pd\n",
    "import matplotlib.pyplot as plt\n",
    "import pickle\n",
    "import warnings\n",
    "warnings.filterwarnings(\"ignore\")\n",
    "\n",
    "data= pd.read_csv('Advertising.csv') # Reading the data file\n",
    "\n",
    "# create X and y\n",
    "feature_cols = ['TV']\n",
    "X = data[feature_cols]\n",
    "y = data.sales\n",
    "\n",
    "# follow the usual sklearn pattern: import, instantiate, fit\n",
    "from sklearn.linear_model import LinearRegression\n",
    "lm = LinearRegression()\n",
    "lm.fit(X, y)\n",
    "\n",
    "# calculate the residuals\n",
    "predicted_vals = lm.predict(X)\n",
    "# df for plotting\n",
    "df_plot = pd.DataFrame(data[\"TV\"])\n",
    "df_plot[\"predict\"] = predicted_vals\n",
    "df_plot[\"Resi\"] = df_plot[\"TV\"] - df_plot[\"predict\"]"
   ]
  },
  {
   "cell_type": "markdown",
   "metadata": {},
   "source": [
    "##### Result (not sure)"
   ]
  },
  {
   "cell_type": "code",
   "execution_count": 6,
   "metadata": {},
   "outputs": [
    {
     "data": {
      "text/plain": [
       "<matplotlib.collections.PathCollection at 0xec4f4d0>"
      ]
     },
     "execution_count": 6,
     "metadata": {},
     "output_type": "execute_result"
    },
    {
     "data": {
      "image/png": "[encoded data removed]",
      "text/plain": [
       "<Figure size 432x288 with 1 Axes>"
      ]
     },
     "metadata": {
      "needs_background": "light"
     },
     "output_type": "display_data"
    }
   ],
   "source": [
    "plt.scatter(df_plot[\"Resi\"], df_plot[\"TV\"])"
   ]
  },
  {
   "cell_type": "markdown",
   "metadata": {},
   "source": [
    "### 5)The error terms have a constant variance, i.e. homoscedasticity."
   ]
  },
  {
   "cell_type": "code",
   "execution_count": 7,
   "metadata": {},
   "outputs": [
    {
     "name": "stdout",
     "output_type": "stream",
     "text": [
      "const    7.113008\n",
      "TV       0.046110\n",
      "dtype: float64\n"
     ]
    }
   ],
   "source": [
    "# using statsmodels\n",
    "import statsmodels.api as sm\n",
    "from sklearn.model_selection import train_test_split\n",
    "\n",
    "feature_cols = ['TV']\n",
    "X = sm.add_constant(data[feature_cols])\n",
    "y = data.sales\n",
    "\n",
    "train_X, test_X, train_y, test_y = train_test_split( X,\n",
    "                                                     y,\n",
    "                                                     train_size = 0.8,\n",
    "                                                     random_state = 100 )\n",
    "\n",
    "lm = sm.OLS( train_y, train_X ).fit()\n",
    "print( lm.params )"
   ]
  },
  {
   "cell_type": "markdown",
   "metadata": {},
   "source": [
    "##### Result\n",
    "\n",
    "##### Homoscedasicity (constant variance) (Random Plot)\n",
    "##### Heteroscedasicity (no constant variance) (Funnel plot)"
   ]
  },
  {
   "cell_type": "code",
   "execution_count": 8,
   "metadata": {},
   "outputs": [
    {
     "data": {
      "text/plain": [
       "Text(0, 0.5, 'Standardized Residuals')"
      ]
     },
     "execution_count": 8,
     "metadata": {},
     "output_type": "execute_result"
    },
    {
     "data": {
      "image/png": "[encoded data removed]",
      "text/plain": [
       "<Figure size 432x288 with 1 Axes>"
      ]
     },
     "metadata": {
      "needs_background": "light"
     },
     "output_type": "display_data"
    }
   ],
   "source": [
    "def get_standardized_values( vals ):\n",
    "    return (vals - vals.mean())/vals.std()\n",
    "# calculate the residuals values\n",
    "resid_vals = lm.resid\n",
    "# plot for homoscedasticity\n",
    "plt.scatter( get_standardized_values( lm.fittedvalues ),resid_vals)\n",
    "plt.title( \"Check for homoscedasticity\" )\n",
    "plt.xlabel( \"Standardized predicted values\" )\n",
    "plt.ylabel( \"Standardized Residuals\" )"
   ]
  },
  {
   "cell_type": "markdown",
   "metadata": {},
   "source": [
    "### 6) Multicollinearity (exist high correlation between indep variables)"
   ]
  },
  {
   "cell_type": "code",
   "execution_count": 9,
   "metadata": {},
   "outputs": [
    {
     "data": {
      "text/html": [
       "<div>\n",
       "<style scoped>\n",
       "    .dataframe tbody tr th:only-of-type {\n",
       "        vertical-align: middle;\n",
       "    }\n",
       "\n",
       "    .dataframe tbody tr th {\n",
       "        vertical-align: top;\n",
       "    }\n",
       "\n",
       "    .dataframe thead th {\n",
       "        text-align: right;\n",
       "    }\n",
       "</style>\n",
       "<table border=\"1\" class=\"dataframe\">\n",
       "  <thead>\n",
       "    <tr style=\"text-align: right;\">\n",
       "      <th></th>\n",
       "      <th>column</th>\n",
       "      <th>VIF</th>\n",
       "    </tr>\n",
       "  </thead>\n",
       "  <tbody>\n",
       "    <tr>\n",
       "      <th>0</th>\n",
       "      <td>TV</td>\n",
       "      <td>2.486772</td>\n",
       "    </tr>\n",
       "    <tr>\n",
       "      <th>1</th>\n",
       "      <td>radio</td>\n",
       "      <td>3.285462</td>\n",
       "    </tr>\n",
       "    <tr>\n",
       "      <th>2</th>\n",
       "      <td>newspaper</td>\n",
       "      <td>3.055245</td>\n",
       "    </tr>\n",
       "  </tbody>\n",
       "</table>\n",
       "</div>"
      ],
      "text/plain": [
       "      column       VIF\n",
       "0         TV  2.486772\n",
       "1      radio  3.285462\n",
       "2  newspaper  3.055245"
      ]
     },
     "execution_count": 9,
     "metadata": {},
     "output_type": "execute_result"
    }
   ],
   "source": [
    "from statsmodels.stats.outliers_influence import variance_inflation_factor\n",
    "def get_vif_factors( X ):\n",
    "    X_matrix = X.as_matrix()\n",
    "    vif = [ variance_inflation_factor( X_matrix, i ) for i in range( X_matrix.shape[1] ) ]\n",
    "    vif_factors = pd.DataFrame()\n",
    "    vif_factors['column'] = X.columns\n",
    "    vif_factors['VIF'] = vif\n",
    "    return vif_factors\n",
    "\n",
    "\n",
    "feature_cols = ['TV', 'radio', 'newspaper']\n",
    "vif_factors = get_vif_factors(data[feature_cols])\n",
    "vif_factors\n",
    "\n",
    "# here VIF is less than 4, so no presence of multicollinearity\n",
    "# if not, read the below steps"
   ]
  },
  {
   "cell_type": "code",
   "execution_count": 10,
   "metadata": {},
   "outputs": [
    {
     "data": {
      "text/plain": [
       "<matplotlib.axes._subplots.AxesSubplot at 0xf509210>"
      ]
     },
     "execution_count": 10,
     "metadata": {},
     "output_type": "execute_result"
    },
    {
     "data": {
      "image/png": "[encoded data removed]",
      "text/plain": [
       "<Figure size 432x288 with 2 Axes>"
      ]
     },
     "metadata": {
      "needs_background": "light"
     },
     "output_type": "display_data"
    }
   ],
   "source": [
    "import seaborn as sns\n",
    "sns.heatmap(data.corr(), \n",
    "            annot=True,          # with numbers\n",
    "            square=True,         # square figure (not necessary)\n",
    "            vmin= -1,            # vmin is correlation minimum value\n",
    "            vmax = 1)            # vmax is correlation maximum value"
   ]
  },
  {
   "cell_type": "markdown",
   "metadata": {},
   "source": [
    "#### Result\n",
    "#### From ML Book"
   ]
  },
  {
   "cell_type": "raw",
   "metadata": {},
   "source": [
    "The following observations are made from the heatmap (Figure 4.5):\n",
    "    1. T-RUNS and ODI-RUNS-S are highly correlated, whereas ODI-WKTS and T-WKTS are highly\n",
    "correlated.\n",
    "    2. Batsman features like RUNS-S, HS, AVE, SIXERS are highly correlated, while bowler’s features\n",
    "like AVE-BL, ECON and SR-BL are highly correlated.To avoid multi-collinearity, we can keep only one column from each group of highly correlated variables and remove the others. Now which one to keep and which one to remove depends on the understanding of the data and the domain.\n",
    "\n",
    "We have decided to remove the following features. Please note that it may take multiple iterations\n",
    "before deciding at a final set of variables, which do not have multi-collinearity. These iterations have been omitted here for simplicity"
   ]
  },
  {
   "cell_type": "code",
   "execution_count": 11,
   "metadata": {},
   "outputs": [
    {
     "ename": "SyntaxError",
     "evalue": "invalid character in identifier (<ipython-input-11-4d76f3ccaed2>, line 2)",
     "output_type": "error",
     "traceback": [
      "\u001b[1;36m  File \u001b[1;32m\"<ipython-input-11-4d76f3ccaed2>\"\u001b[1;36m, line \u001b[1;32m2\u001b[0m\n\u001b[1;33m    columns_to_be_removed = [‘T-RUNS’, ‘T-WKTS’, ‘RUNS-S’, ‘HS’, ‘AVE’,\u001b[0m\n\u001b[1;37m                              ^\u001b[0m\n\u001b[1;31mSyntaxError\u001b[0m\u001b[1;31m:\u001b[0m invalid character in identifier\n"
     ]
    }
   ],
   "source": [
    "# dont run this cell\n",
    "columns_to_be_removed = [‘T-RUNS’, ‘T-WKTS’, ‘RUNS-S’, ‘HS’, ‘AVE’,\n",
    "                        ‘RUNS-C’, ‘SR-B’, ‘AVE-BL’, ‘ECON’,\n",
    "                        ‘ODI-SR-B’, ‘ODI-RUNS-S’, ‘AGE_2’, ‘SR-BL’ ]\n",
    "\n",
    "X_new_features = list( set(X_features) - set(columns_to_be_removed))\n",
    "\n",
    "\n",
    "get_vif_factors( X[X_new_features] )\n"
   ]
  },
  {
   "cell_type": "raw",
   "metadata": {},
   "source": [
    "Column VIF\n",
    "0 AGE_3 1.779861\n",
    "1 ODI-SR-BL 2.822148\n",
    "2 COUNTRY_IND 3.144668\n",
    "3 COUNTRY_ENG 1.131869\n",
    "4 COUNTRY_NZ 1.173418\n",
    "5 COUNTRY_PAK 1.334773\n",
    "6 COUNTRY_WI 1.194093\n",
    "7 COUNTRY_SL 1.519752\n",
    "8 COUNTRY_ZIM 1.205305\n",
    "9 CAPTAINCY EXP_1 2.458745\n",
    "10 PLAYING ROLE_W. Keeper 1.900941\n",
    "11 PLAYING ROLE_Bowler 3.060168\n",
    "12 SIXERS 2.397409\n",
    "13 COUNTRY_BAN 1.094293\n",
    "14 COUNTRY_SA 1.416657\n",
    "15 PLAYING ROLE_Batsman 2.680207\n",
    "16 ODI-WKTS 2.742889\n",
    "17 WKTS 2.883101"
   ]
  },
  {
   "cell_type": "raw",
   "metadata": {},
   "source": [
    "The VIFs on the final set of variables indicate that there is no multi-collinearity present any more\n",
    "(VIF values are less than 4). We can proceed to build the model with these set of variables now.\n",
    "\n",
    "Repeat this steps above until you get VIF less than 4."
   ]
  },
  {
   "cell_type": "markdown",
   "metadata": {},
   "source": [
    "##### Result 2"
   ]
  },
  {
   "cell_type": "raw",
   "metadata": {},
   "source": [
    "Building a New Model after Removing Multi-collinearity"
   ]
  },
  {
   "cell_type": "markdown",
   "metadata": {},
   "source": [
    "### 7) The error terms are normally distributed."
   ]
  },
  {
   "cell_type": "code",
   "execution_count": null,
   "metadata": {},
   "outputs": [],
   "source": [
    "# necessary Imports\n",
    "import pandas as pd\n",
    "import matplotlib.pyplot as plt\n",
    "import pickle\n",
    "import warnings\n",
    "warnings.filterwarnings(\"ignore\")\n",
    "\n",
    "data= pd.read_csv('Advertising.csv') # Reading the data file\n",
    "\n",
    "import statsmodels.api as sm\n",
    "from sklearn.model_selection import train_test_split\n",
    "\n",
    "feature_cols = ['TV']\n",
    "X = sm.add_constant(data[feature_cols])\n",
    "y = data.sales\n",
    "\n",
    "train_X, test_X, train_y, test_y = train_test_split( X,\n",
    "                                                     y,\n",
    "                                                     train_size = 0.8,\n",
    "                                                     random_state = 100 )\n",
    "\n",
    "lm = sm.OLS( train_y, train_X ).fit()\n",
    "\n",
    "# plotting the data\n",
    "lm_resid = lm.resid\n",
    "probplot = sm.ProbPlot(lm_resid)\n",
    "plt.figure( figsize = (8, 6))\n",
    "probplot.ppplot( line='45' )\n",
    "plt.title( \"Fig 4.1 - Normal P-P Plot of Regression Standardized Residuals\")\n",
    "plt.show()"
   ]
  },
  {
   "cell_type": "code",
   "execution_count": null,
   "metadata": {},
   "outputs": [],
   "source": []
  },
  {
   "cell_type": "code",
   "execution_count": null,
   "metadata": {},
   "outputs": [],
   "source": []
  },
  {
   "cell_type": "code",
   "execution_count": null,
   "metadata": {},
   "outputs": [],
   "source": []
  }
 ],
 "metadata": {
  "kernelspec": {
   "display_name": "Python 3",
   "language": "python",
   "name": "python3"
  },
  "language_info": {
   "codemirror_mode": {
    "name": "ipython",
    "version": 3
   },
   "file_extension": ".py",
   "mimetype": "text/x-python",
   "name": "python",
   "nbconvert_exporter": "python",
   "pygments_lexer": "ipython3",
   "version": "3.7.1"
  }
 },
 "nbformat": 4,
 "nbformat_minor": 2
}
