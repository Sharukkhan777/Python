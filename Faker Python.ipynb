{
 "cells": [
  {
   "cell_type": "markdown",
   "metadata": {},
   "source": [
    "# Faker Python libraries"
   ]
  },
  {
   "cell_type": "raw",
   "metadata": {},
   "source": [
    "Documentation link\n",
    "▔▔▔▔▔▔▔▔▔▔\n",
    "https://faker.readthedocs.io/en/master/"
   ]
  },
  {
   "cell_type": "raw",
   "metadata": {},
   "source": [
    "Contents:\n",
    "\n",
    "Introduction:\n",
    "    Simple Example\n",
    "    List all the attributes and function inside the object\n",
    "    Search the names you want to check which values are available\n",
    "\n",
    "Change Language\n",
    "\n"
   ]
  },
  {
   "cell_type": "markdown",
   "metadata": {},
   "source": [
    "#### Simple Example"
   ]
  },
  {
   "cell_type": "code",
   "execution_count": 25,
   "metadata": {},
   "outputs": [
    {
     "data": {
      "text/plain": [
       "'saraalexander@gill.info'"
      ]
     },
     "execution_count": 25,
     "metadata": {},
     "output_type": "execute_result"
    }
   ],
   "source": [
    "# import libraries\n",
    "from faker import Faker\n",
    "\n",
    "# creating the instance\n",
    "f = Faker()\n",
    "\n",
    "# Example generation of email\n",
    "f.email()"
   ]
  },
  {
   "cell_type": "markdown",
   "metadata": {},
   "source": [
    "#### List all the attributes and function inside the object"
   ]
  },
  {
   "cell_type": "code",
   "execution_count": 27,
   "metadata": {},
   "outputs": [],
   "source": [
    "# dir(f)"
   ]
  },
  {
   "cell_type": "raw",
   "metadata": {},
   "source": [
    "----Take all the possiblilities---"
   ]
  },
  {
   "cell_type": "code",
   "execution_count": 12,
   "metadata": {},
   "outputs": [],
   "source": [
    "list_of_names = []\n",
    "list_of_values = []\n",
    "for i in dir(f):\n",
    "    try:\n",
    "        list_of_values.append(eval(\"f.\"+str(i)+\"()\"))\n",
    "        list_of_names.append(i)\n",
    "    except:\n",
    "        continue"
   ]
  },
  {
   "cell_type": "code",
   "execution_count": 15,
   "metadata": {},
   "outputs": [],
   "source": [
    "# Create a dataframe\n",
    "import pandas as pd\n",
    "df = pd.DataFrame({\n",
    "    'list_of_names':list_of_names,\n",
    "    'list_of_values':list_of_values\n",
    "})"
   ]
  },
  {
   "cell_type": "code",
   "execution_count": 17,
   "metadata": {},
   "outputs": [
    {
     "data": {
      "text/html": [
       "<div>\n",
       "<style scoped>\n",
       "    .dataframe tbody tr th:only-of-type {\n",
       "        vertical-align: middle;\n",
       "    }\n",
       "\n",
       "    .dataframe tbody tr th {\n",
       "        vertical-align: top;\n",
       "    }\n",
       "\n",
       "    .dataframe thead th {\n",
       "        text-align: right;\n",
       "    }\n",
       "</style>\n",
       "<table border=\"1\" class=\"dataframe\">\n",
       "  <thead>\n",
       "    <tr style=\"text-align: right;\">\n",
       "      <th></th>\n",
       "      <th>list_of_names</th>\n",
       "      <th>list_of_values</th>\n",
       "    </tr>\n",
       "  </thead>\n",
       "  <tbody>\n",
       "    <tr>\n",
       "      <th>0</th>\n",
       "      <td>__class__</td>\n",
       "      <td>&lt;faker.proxy.Faker object at 0x03FD5750&gt;</td>\n",
       "    </tr>\n",
       "    <tr>\n",
       "      <th>1</th>\n",
       "      <td>__dir__</td>\n",
       "      <td>[__class__, __delattr__, __dict__, __dir__, __...</td>\n",
       "    </tr>\n",
       "    <tr>\n",
       "      <th>2</th>\n",
       "      <td>__hash__</td>\n",
       "      <td>5035303</td>\n",
       "    </tr>\n",
       "    <tr>\n",
       "      <th>3</th>\n",
       "      <td>__init__</td>\n",
       "      <td>None</td>\n",
       "    </tr>\n",
       "    <tr>\n",
       "      <th>4</th>\n",
       "      <td>__init_subclass__</td>\n",
       "      <td>None</td>\n",
       "    </tr>\n",
       "  </tbody>\n",
       "</table>\n",
       "</div>"
      ],
      "text/plain": [
       "       list_of_names                                     list_of_values\n",
       "0          __class__           <faker.proxy.Faker object at 0x03FD5750>\n",
       "1            __dir__  [__class__, __delattr__, __dict__, __dir__, __...\n",
       "2           __hash__                                            5035303\n",
       "3           __init__                                               None\n",
       "4  __init_subclass__                                               None"
      ]
     },
     "execution_count": 17,
     "metadata": {},
     "output_type": "execute_result"
    }
   ],
   "source": [
    "df.head()"
   ]
  },
  {
   "cell_type": "markdown",
   "metadata": {},
   "source": [
    "#### Search the names you want to check which values are available"
   ]
  },
  {
   "cell_type": "code",
   "execution_count": 21,
   "metadata": {},
   "outputs": [],
   "source": [
    "#Program\n",
    "def find_text_in_list(list_of_values,text):\n",
    "    matched_column_names = []\n",
    "    for i in list_of_values:\n",
    "        i_lower = i.lower()\n",
    "        text_lower = text.lower()\n",
    "        if text_lower in i_lower:\n",
    "            matched_column_names.append(i)\n",
    "        else:\n",
    "            continue\n",
    "    return matched_column_names"
   ]
  },
  {
   "cell_type": "code",
   "execution_count": 22,
   "metadata": {},
   "outputs": [
    {
     "data": {
      "text/plain": [
       "['image_url', 'url']"
      ]
     },
     "execution_count": 22,
     "metadata": {},
     "output_type": "execute_result"
    }
   ],
   "source": [
    "find_text_in_list(list_of_names,'url')"
   ]
  },
  {
   "cell_type": "code",
   "execution_count": 24,
   "metadata": {},
   "outputs": [
    {
     "data": {
      "text/plain": [
       "'https://www.lorempixel.com/225/154'"
      ]
     },
     "execution_count": 24,
     "metadata": {},
     "output_type": "execute_result"
    }
   ],
   "source": [
    "f.image_url()"
   ]
  },
  {
   "cell_type": "markdown",
   "metadata": {},
   "source": [
    "#### Change language"
   ]
  },
  {
   "cell_type": "raw",
   "metadata": {},
   "source": [
    "Documentation link\n",
    "▔▔▔▔▔▔▔▔▔▔\n",
    "https://faker.readthedocs.io/en/master/locales/ta_IN.html"
   ]
  },
  {
   "cell_type": "code",
   "execution_count": 35,
   "metadata": {},
   "outputs": [],
   "source": [
    "from faker import Faker\n",
    "f = Faker(['ta_IN'])"
   ]
  },
  {
   "cell_type": "code",
   "execution_count": 39,
   "metadata": {},
   "outputs": [
    {
     "name": "stdout",
     "output_type": "stream",
     "text": [
      "85/000 மணவாளன்\n",
      "மங்களூர் 712551   /   மணிரத்ணம் சத்தியலிங்கம் \n",
      "\n",
      "0/1 மகிழ்நன் ஊர்மிளா\n",
      "குண்டூர் 651215   /   தன்சி வள்ளிமணாளன் \n",
      "\n",
      "96/597 ஸபீனா ஒளிர்நிலவன்\n",
      "அமராவதி 183062   /   ஆனந்ததேவன் \n",
      "\n",
      "49 இசைவளவன் உபதேஷ்\n",
      "தன்பாத் 331493   /   நளினி ஹவிஷ்மதி \n",
      "\n",
      "5853 மணியொளி ஷாமினி\n",
      "இராணிப்பேட்டை-900347   /   கண்ணம்மா ஊர்வசி \n",
      "\n"
     ]
    }
   ],
   "source": [
    "for _ in range(5):\n",
    "    print(f.address(),\"  /  \", f.name(),\"\\n\")"
   ]
  },
  {
   "cell_type": "code",
   "execution_count": null,
   "metadata": {},
   "outputs": [],
   "source": []
  }
 ],
 "metadata": {
  "kernelspec": {
   "display_name": "Python 3",
   "language": "python",
   "name": "python3"
  },
  "language_info": {
   "codemirror_mode": {
    "name": "ipython",
    "version": 3
   },
   "file_extension": ".py",
   "mimetype": "text/x-python",
   "name": "python",
   "nbconvert_exporter": "python",
   "pygments_lexer": "ipython3",
   "version": "3.7.1"
  }
 },
 "nbformat": 4,
 "nbformat_minor": 2
}
