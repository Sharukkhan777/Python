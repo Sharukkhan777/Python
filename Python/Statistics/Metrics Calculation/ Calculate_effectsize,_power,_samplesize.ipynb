{
  "nbformat": 4,
  "nbformat_minor": 0,
  "metadata": {
    "colab": {
      "name": "Calculate effectsize, power, samplesize.ipynb",
      "provenance": [],
      "authorship_tag": "ABX9TyOFFnPn9WOuKTZahy5EUpmx",
      "include_colab_link": true
    },
    "kernelspec": {
      "name": "python3",
      "display_name": "Python 3"
    }
  },
  "cells": [
    {
      "cell_type": "markdown",
      "metadata": {
        "id": "view-in-github",
        "colab_type": "text"
      },
      "source": [
        "<a href=\"https://colab.research.google.com/github/Sharukkhan777/Python/blob/master/Python/Statistics/Metrics%20Calculation/%20Calculate_effectsize%2C_power%2C_samplesize.ipynb\" target=\"_parent\"><img src=\"https://colab.research.google.com/assets/colab-badge.svg\" alt=\"Open In Colab\"/></a>"
      ]
    },
    {
      "cell_type": "markdown",
      "metadata": {
        "id": "eE-dXJla37p6",
        "colab_type": "text"
      },
      "source": [
        "We can use all the below methods \n",
        "\n",
        "FTestAnovaPower\n",
        "\n",
        "FTestPower\n",
        "\n",
        "GofChisquarePower\n",
        "\n",
        "NormalIndPower\n",
        "\n",
        "TTestIndPower\n",
        "\n",
        "TTestPower  and more"
      ]
    },
    {
      "cell_type": "code",
      "metadata": {
        "id": "qnUMwMZj3GFT",
        "colab_type": "code",
        "outputId": "3ce37635-b56e-4834-c59a-64357c5741a6",
        "colab": {
          "base_uri": "https://localhost:8080/",
          "height": 153
        }
      },
      "source": [
        "# estimate sample size via power analysis\n",
        "from statsmodels.stats.power import TTestIndPower,TTestPower,GofChisquarePower,NormalIndPower,FTestAnovaPower,FTestPower\n",
        "# parameters for power analysis\n",
        "effect = 0.8\n",
        "alpha = 0.05\n",
        "power = 0.8\n",
        "no_of_obs_sample_1 = 10\n",
        "no_of_obs_sample_2 = 10\n",
        "ratio_cal = no_of_obs_sample_2/no_of_obs_sample_1\n",
        "#---------------------------------------\n",
        "# 1)TTestIndPower\n",
        "# perform power analysis\n",
        "analysis = TTestIndPower()\n",
        "result = analysis.solve_power(effect_size = None, power=power, nobs1=no_of_obs_sample_1, ratio=ratio_cal, alpha=alpha)\n",
        "print('Solved_one for TTestIndPower : %.3f' % result)\n",
        "#---------------------------------------\n",
        "# 2)TTestPower\n",
        "analysis = TTestPower()\n",
        "result = analysis.solve_power(effect_size=None, nobs=no_of_obs_sample_1, alpha=alpha, power=power, alternative='two-sided')\n",
        "print('Solved_one for TTestPower : %.3f' % result)\n",
        "#---------------------------------------\n",
        "# 3)GofChisquarePower\n",
        "analysis = GofChisquarePower()\n",
        "result = analysis.solve_power(effect_size=0.8, nobs=150, alpha=0.05, power=0.8, n_bins=None)\n",
        "# In r for bins comparison\n",
        "#> p = pwr.chisq.test(w=0.346, df=(2-1)*(3-1), N=140, sig.level=0.01)\n",
        "# In Python\n",
        "# smp.GofChisquarePower().solve_power(0.346, nobs=140, n_bins=(2-1)*(3-1) + 1, alpha=0.01)\n",
        "print('Solved_one for GofChisquarePower : %.3f' % result)\n",
        "#---------------------------------------\n",
        "# 4)NormalIndPower\n",
        "analysis = NormalIndPower()\n",
        "result = analysis.solve_power(effect_size=0.8, nobs1=15, alpha=None, power=0.8, ratio=1.0, alternative='two-sided')\n",
        "print('Solved_one for NormalIndPower : %.3f' % result)\n",
        "#---------------------------------------\n",
        "# 4)FTestAnovaPower\n",
        "analysis = FTestAnovaPower()\n",
        "result = analysis.solve_power(effect_size=0.8, nobs=15, alpha=0.05, power=None, k_groups=2)\n",
        "# In R for k_groups\n",
        "# > p = pwr.anova.test(f=0.28, k=4, n=20, sig.level=0.05)\n",
        "print('Solved_one for FTestAnovaPower : %.3f' % result)\n",
        "#---------------------------------------\n",
        "# 5)FTestPower\n",
        "analysis = FTestPower()\n",
        "result = analysis.solve_power(effect_size=0.8, df_num=7,    # df_num is degress of freedom of the numerator\n",
        "                              df_denom=1,     # df_denom is the degrees of freedom of the denominator\n",
        "                              nobs=15, alpha=0.05, power=None, ncc=1)\n",
        "print('Solved_one for FTestPower : %.3f' % result)"
      ],
      "execution_count": 5,
      "outputs": [
        {
          "output_type": "stream",
          "text": [
            "Solved_one for TTestIndPower : 1.325\n",
            "Solved_one for TTestPower : 0.996\n",
            "Solved_one for GofChisquarePower : 663.794\n",
            "Solved_one for NormalIndPower : 0.177\n",
            "Solved_one for FTestAnovaPower : 0.817\n",
            "Solved_one for FTestPower : 0.543\n"
          ],
          "name": "stdout"
        },
        {
          "output_type": "stream",
          "text": [
            "/usr/local/lib/python3.6/dist-packages/statsmodels/stats/power.py:255: ValueWarning: Warning: using default start_value for n_bins\n",
            "  warnings.warn('Warning: using default start_value for {0}'.format(key), ValueWarning)\n"
          ],
          "name": "stderr"
        }
      ]
    },
    {
      "cell_type": "code",
      "metadata": {
        "id": "zuA0duDzZPyi",
        "colab_type": "code",
        "colab": {}
      },
      "source": [
        ""
      ],
      "execution_count": 0,
      "outputs": []
    }
  ]
}