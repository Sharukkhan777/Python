{
 "cells": [
  {
   "cell_type": "markdown",
   "metadata": {},
   "source": [
    "# Find the equation for the given clue letters, numbers and symbols"
   ]
  },
  {
   "cell_type": "markdown",
   "metadata": {},
   "source": [
    "### Type your inputs separate with space"
   ]
  },
  {
   "cell_type": "code",
   "execution_count": 4,
   "metadata": {},
   "outputs": [
    {
     "name": "stdout",
     "output_type": "stream",
     "text": [
      "x ** 2 + 6\n"
     ]
    }
   ],
   "source": [
    "given_expr = list(map(str,input().split())) # EG: x ** 2 + 6"
   ]
  },
  {
   "cell_type": "code",
   "execution_count": 5,
   "metadata": {},
   "outputs": [],
   "source": [
    "# three cases\n",
    "x_val = [1,2,3]\n",
    "y_val = [7,10,15]"
   ]
  },
  {
   "cell_type": "code",
   "execution_count": 6,
   "metadata": {},
   "outputs": [
    {
     "name": "stdout",
     "output_type": "stream",
     "text": [
      "['x**2+6', '6+x**2']\n"
     ]
    }
   ],
   "source": [
    "# import sympy for simplify\n",
    "new_list = given_expr\n",
    "from sympy import Symbol, simplify\n",
    "from itertools import *\n",
    "lis = new_list\n",
    "valid_expression = []\n",
    "suitable_expr_list = []\n",
    "\n",
    "for a in range(1,len(lis)+1):\n",
    "    for i in combinations(lis,a):\n",
    "        i = list(i)\n",
    "        for j in permutations(i):\n",
    "            comb_list = list(j)\n",
    "            #-----------------------------\n",
    "            list_str = ''\n",
    "            for take in comb_list:\n",
    "                list_str = list_str + take\n",
    "                try:\n",
    "                    y_ans_list = []\n",
    "                    for j_ in range(len(x_val)):\n",
    "                        x = x_val[j_]\n",
    "                        y_ans = eval(list_str)\n",
    "                        y_ans_list.append(y_ans)\n",
    "                    if y_val == y_ans_list:\n",
    "                        suitable_expr_list.append(list_str)\n",
    "#                     eval(list_str)\n",
    "#                     valid_expression.append(list_str)\n",
    "                except:\n",
    "                    continue\n",
    "# valid_expression_unique = list(set(valid_expression))\n",
    "print(list(set(suitable_expr_list)))"
   ]
  },
  {
   "cell_type": "code",
   "execution_count": null,
   "metadata": {},
   "outputs": [],
   "source": []
  },
  {
   "cell_type": "code",
   "execution_count": null,
   "metadata": {},
   "outputs": [],
   "source": []
  }
 ],
 "metadata": {
  "kernelspec": {
   "display_name": "Python 3",
   "language": "python",
   "name": "python3"
  },
  "language_info": {
   "codemirror_mode": {
    "name": "ipython",
    "version": 3
   },
   "file_extension": ".py",
   "mimetype": "text/x-python",
   "name": "python",
   "nbconvert_exporter": "python",
   "pygments_lexer": "ipython3",
   "version": "3.7.1"
  }
 },
 "nbformat": 4,
 "nbformat_minor": 2
}
