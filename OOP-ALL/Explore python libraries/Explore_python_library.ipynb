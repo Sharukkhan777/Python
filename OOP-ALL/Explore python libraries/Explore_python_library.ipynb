{
  "nbformat": 4,
  "nbformat_minor": 0,
  "metadata": {
    "colab": {
      "name": "Explore python library.ipynb",
      "provenance": []
    },
    "kernelspec": {
      "name": "python3",
      "display_name": "Python 3"
    },
    "language_info": {
      "name": "python"
    }
  },
  "cells": [
    {
      "cell_type": "code",
      "metadata": {
        "id": "QLXNRXuSdnMx"
      },
      "source": [
        "import nsepython"
      ],
      "execution_count": 3,
      "outputs": []
    },
    {
      "cell_type": "markdown",
      "metadata": {
        "id": "A9O2xcQseNKa"
      },
      "source": [
        "### library"
      ]
    },
    {
      "cell_type": "code",
      "metadata": {
        "colab": {
          "base_uri": "https://localhost:8080/"
        },
        "id": "Vt6bIG41eHMd",
        "outputId": "c31386c7-0ca4-4ee2-9dfc-5756f2f101e3"
      },
      "source": [
        "help(nsepython)"
      ],
      "execution_count": 6,
      "outputs": [
        {
          "output_type": "stream",
          "text": [
            "Help on package nsepython:\n",
            "\n",
            "NAME\n",
            "    nsepython\n",
            "\n",
            "PACKAGE CONTENTS\n",
            "    rahu\n",
            "\n",
            "DATA\n",
            "    headers = {'Accept': 'text/html,application/xhtml+xml,application/xml;...\n",
            "    indices = ['NIFTY', 'FINNIFTY', 'BANKNIFTY']\n",
            "    mode = 'local'\n",
            "    niftyindices_headers = {'Accept': 'application/json, text/javascript, ...\n",
            "    norm = <scipy.stats._continuous_distns.norm_gen object>\n",
            "    run_time = datetime.datetime(2021, 8, 22, 6, 6, 23, 812763)\n",
            "\n",
            "VERSION\n",
            "    0.1\n",
            "\n",
            "FILE\n",
            "    /usr/local/lib/python3.7/dist-packages/nsepython/__init__.py\n",
            "\n",
            "\n"
          ],
          "name": "stdout"
        }
      ]
    },
    {
      "cell_type": "markdown",
      "metadata": {
        "id": "r-8ppOdTeP5L"
      },
      "source": [
        "### function or something inside library\n",
        "### To see default parameter too"
      ]
    },
    {
      "cell_type": "code",
      "metadata": {
        "colab": {
          "base_uri": "https://localhost:8080/"
        },
        "id": "7YR4MrtZdswl",
        "outputId": "fbeb0bca-0294-4bbe-db3b-3e371e563eb6"
      },
      "source": [
        "help(nsepython.black_scholes_dexter)"
      ],
      "execution_count": 5,
      "outputs": [
        {
          "output_type": "stream",
          "text": [
            "Help on function black_scholes_dexter in module nsepython.rahu:\n",
            "\n",
            "black_scholes_dexter(S0, X, t, σ='', r=10, q=0.0, td=365)\n",
            "\n"
          ],
          "name": "stdout"
        }
      ]
    },
    {
      "cell_type": "code",
      "metadata": {
        "id": "IHqsd8JCdvJB"
      },
      "source": [
        ""
      ],
      "execution_count": null,
      "outputs": []
    }
  ]
}