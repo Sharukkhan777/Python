{
 "cells": [
  {
   "cell_type": "markdown",
   "id": "3daffda7",
   "metadata": {},
   "source": [
    "### Creating Data"
   ]
  },
  {
   "cell_type": "code",
   "execution_count": null,
   "id": "6b1cf09d",
   "metadata": {},
   "outputs": [],
   "source": [
    "import ipywidgets"
   ]
  },
  {
   "cell_type": "code",
   "execution_count": null,
   "id": "aca083bf",
   "metadata": {},
   "outputs": [],
   "source": [
    "import time\n"
   ]
  },
  {
   "cell_type": "code",
   "execution_count": null,
   "id": "9fd52df7",
   "metadata": {},
   "outputs": [],
   "source": [
    "import datetime"
   ]
  },
  {
   "cell_type": "code",
   "execution_count": null,
   "id": "c5d4a11c",
   "metadata": {},
   "outputs": [],
   "source": [
    "t0 = datetime.datetime.now()"
   ]
  },
  {
   "cell_type": "code",
   "execution_count": null,
   "id": "101054f9",
   "metadata": {},
   "outputs": [],
   "source": [
    "t0"
   ]
  },
  {
   "cell_type": "code",
   "execution_count": null,
   "id": "e25d1528",
   "metadata": {},
   "outputs": [],
   "source": [
    "lst_range = []\n",
    "lst_datetime = []\n",
    "for i in range(10):\n",
    "    lst_range.append(i)\n",
    "    lst_datetime.append(str(datetime.datetime.now()))\n",
    "    time.sleep(1)\n",
    "    "
   ]
  },
  {
   "cell_type": "code",
   "execution_count": null,
   "id": "95f6af06",
   "metadata": {},
   "outputs": [],
   "source": [
    "import pandas as pd"
   ]
  },
  {
   "cell_type": "code",
   "execution_count": null,
   "id": "3b8b1879",
   "metadata": {},
   "outputs": [],
   "source": [
    "df = pd.DataFrame()"
   ]
  },
  {
   "cell_type": "code",
   "execution_count": null,
   "id": "cf69263d",
   "metadata": {},
   "outputs": [],
   "source": [
    "df[\"range\"] = lst_range\n",
    "df[\"datetime_values\"] = lst_datetime"
   ]
  },
  {
   "cell_type": "code",
   "execution_count": null,
   "id": "69f30406",
   "metadata": {},
   "outputs": [],
   "source": [
    "df.to_csv(r\"C:\\Users\\SHARUK KHAN M\\Desktop\\NIQ_projecttests\\datetimetest.csv\")\n",
    "df.to_excel(r\"C:\\Users\\SHARUK KHAN M\\Desktop\\NIQ_projecttests\\datetimetest.xlsx\")"
   ]
  },
  {
   "cell_type": "markdown",
   "id": "8ed54a1a",
   "metadata": {},
   "source": [
    "# Creating Dashboard"
   ]
  },
  {
   "cell_type": "code",
   "execution_count": null,
   "id": "c9b2088f",
   "metadata": {},
   "outputs": [],
   "source": [
    "# read the dataset\n",
    "import pandas as pd\n",
    "df = pd.read_excel(r\"C:\\Users\\SHARUK KHAN M\\Desktop\\NIQ_projecttests\\Output_file.xlsx\")"
   ]
  },
  {
   "cell_type": "code",
   "execution_count": null,
   "id": "d235ae54",
   "metadata": {},
   "outputs": [],
   "source": [
    "df.head()"
   ]
  },
  {
   "cell_type": "code",
   "execution_count": null,
   "id": "d966f8a7",
   "metadata": {},
   "outputs": [],
   "source": [
    "# CREATING DROPDOWN FROM DATA \n",
    "\n",
    "lst_wk_values = list(df[\"WK\"].unique())\n",
    "lst_wk_values.append(\"All\")\n",
    "\n",
    "lst_year_values = list(df[\"YearRun\"].unique())\n",
    "lst_year_values.append(\"All\")\n",
    "\n",
    "lst_username_values = list(df[\"UserName\"].unique())\n",
    "lst_username_values.append(\"All\")\n"
   ]
  },
  {
   "cell_type": "code",
   "execution_count": null,
   "id": "36499efc",
   "metadata": {},
   "outputs": [],
   "source": [
    "lst_wk_values"
   ]
  },
  {
   "cell_type": "code",
   "execution_count": null,
   "id": "67ef5756",
   "metadata": {},
   "outputs": [],
   "source": [
    "import ipywidgets as widgets"
   ]
  },
  {
   "cell_type": "code",
   "execution_count": null,
   "id": "17c363ed",
   "metadata": {},
   "outputs": [],
   "source": [
    "wid_wk = widgets.Dropdown(description = \"WK No.\",options = lst_wk_values,index = len(lst_wk_values)-1)\n",
    "wid_yr = widgets.Dropdown(description = \"Year\",options = lst_year_values,index = len(lst_year_values)-1)\n",
    "wid_user = widgets.Dropdown(description = \"User\",options = lst_username_values,index = len(lst_username_values)-1)\n",
    "display(wid_wk)\n",
    "display(wid_yr)\n",
    "display(wid_user)\n",
    "# display(df_source)"
   ]
  },
  {
   "cell_type": "code",
   "execution_count": null,
   "id": "915519c8",
   "metadata": {},
   "outputs": [],
   "source": []
  },
  {
   "cell_type": "code",
   "execution_count": null,
   "id": "bc8f91af",
   "metadata": {},
   "outputs": [],
   "source": [
    "def analyze_filter(df,val_wk,val_yr,val_user):\n",
    "    # val_wk = wid_wk.value\n",
    "    # val_yr = wid_yr.value\n",
    "    # val_user = wid_user.value\n",
    "    # df = pd.read_excel(r\"C:\\Users\\SHARUK KHAN M\\Desktop\\NIQ_projecttests\\Output_file.xlsx\")\n",
    "    if val_wk == \"All\":\n",
    "        condition_wk = True\n",
    "    else:\n",
    "        condition_wk = df[\"WK\"] == val_wk\n",
    "\n",
    "    if val_yr == \"All\":\n",
    "        condition_yr = True\n",
    "    else:\n",
    "        condition_yr = df[\"YearRun\"] == val_yr\n",
    "\n",
    "    if val_user == \"All\":\n",
    "        condition_un = True\n",
    "    else:\n",
    "        condition_un = df[\"UserName\"] == val_user\n",
    "\n",
    "    condition_wk = df[\"WK\"] == val_wk\n",
    "    condition_yr = df[\"YearRun\"] == val_yr\n",
    "    condition_un = df[\"UserName\"] == val_user\n",
    "    \n",
    "    # global df_source\n",
    "    df_source = df[condition_wk & condition_yr & condition_un]\n",
    "    return df_source\n",
    "\n",
    "button_analyse.on_click(analyze_filter)\n"
   ]
  },
  {
   "cell_type": "markdown",
   "id": "b876bc01",
   "metadata": {},
   "source": [
    "### Create plot for all data \n"
   ]
  },
  {
   "cell_type": "code",
   "execution_count": 241,
   "id": "cf88091a",
   "metadata": {},
   "outputs": [],
   "source": [
    "# read the dataset\n",
    "import pandas as pd\n",
    "df = pd.read_excel(r\"C:\\Users\\SHARUK KHAN M\\Desktop\\NIQ_projecttests\\Output_file.xlsx\")"
   ]
  },
  {
   "cell_type": "code",
   "execution_count": 242,
   "id": "23ff1839",
   "metadata": {},
   "outputs": [
    {
     "data": {
      "text/html": [
       "<div>\n",
       "<style scoped>\n",
       "    .dataframe tbody tr th:only-of-type {\n",
       "        vertical-align: middle;\n",
       "    }\n",
       "\n",
       "    .dataframe tbody tr th {\n",
       "        vertical-align: top;\n",
       "    }\n",
       "\n",
       "    .dataframe thead th {\n",
       "        text-align: right;\n",
       "    }\n",
       "</style>\n",
       "<table border=\"1\" class=\"dataframe\">\n",
       "  <thead>\n",
       "    <tr style=\"text-align: right;\">\n",
       "      <th></th>\n",
       "      <th>WK</th>\n",
       "      <th>RMS_FDS_ID</th>\n",
       "      <th>Hier</th>\n",
       "      <th>wk_input</th>\n",
       "      <th>Market</th>\n",
       "      <th>Hierarchy</th>\n",
       "      <th>Period</th>\n",
       "      <th>SoftChar</th>\n",
       "      <th>DataCompare</th>\n",
       "      <th>ErrorInCode</th>\n",
       "      <th>start_time</th>\n",
       "      <th>end_time</th>\n",
       "      <th>TotalRunTime</th>\n",
       "      <th>DateRun</th>\n",
       "      <th>YearRun</th>\n",
       "      <th>UserName</th>\n",
       "      <th>Usercomments</th>\n",
       "    </tr>\n",
       "  </thead>\n",
       "  <tbody>\n",
       "    <tr>\n",
       "      <th>0</th>\n",
       "      <td>WK01</td>\n",
       "      <td>1000101</td>\n",
       "      <td>2</td>\n",
       "      <td>52</td>\n",
       "      <td>No Exception</td>\n",
       "      <td>No Exception</td>\n",
       "      <td>No Exception</td>\n",
       "      <td>No Exception</td>\n",
       "      <td>No Exception</td>\n",
       "      <td>No</td>\n",
       "      <td>2023-12-07 20:04:42.616810</td>\n",
       "      <td>2023-12-07 20:04:41.613560</td>\n",
       "      <td>4</td>\n",
       "      <td>2023-12-07</td>\n",
       "      <td>2023</td>\n",
       "      <td>sharuk.khan</td>\n",
       "      <td>test</td>\n",
       "    </tr>\n",
       "    <tr>\n",
       "      <th>1</th>\n",
       "      <td>WK01</td>\n",
       "      <td>1000102</td>\n",
       "      <td>2</td>\n",
       "      <td>52</td>\n",
       "      <td>No Exception</td>\n",
       "      <td>No Exception</td>\n",
       "      <td>No Exception</td>\n",
       "      <td>No Exception</td>\n",
       "      <td>No Exception</td>\n",
       "      <td>No</td>\n",
       "      <td>2023-12-07 20:04:42.616810</td>\n",
       "      <td>2023-12-07 20:04:42.616810</td>\n",
       "      <td>6</td>\n",
       "      <td>2023-12-07</td>\n",
       "      <td>2023</td>\n",
       "      <td>sharuk.khan</td>\n",
       "      <td>test</td>\n",
       "    </tr>\n",
       "    <tr>\n",
       "      <th>2</th>\n",
       "      <td>WK01</td>\n",
       "      <td>1000103</td>\n",
       "      <td>2</td>\n",
       "      <td>52</td>\n",
       "      <td>No Exception</td>\n",
       "      <td>No Exception</td>\n",
       "      <td>No Exception</td>\n",
       "      <td>No Exception</td>\n",
       "      <td>No Exception</td>\n",
       "      <td>No</td>\n",
       "      <td>2023-12-07 20:04:43.622716</td>\n",
       "      <td>2023-12-07 20:04:43.622716</td>\n",
       "      <td>8</td>\n",
       "      <td>2023-12-07</td>\n",
       "      <td>2023</td>\n",
       "      <td>sharuk.khan</td>\n",
       "      <td>test</td>\n",
       "    </tr>\n",
       "    <tr>\n",
       "      <th>3</th>\n",
       "      <td>WK01</td>\n",
       "      <td>1000104</td>\n",
       "      <td>2</td>\n",
       "      <td>52</td>\n",
       "      <td>No Exception</td>\n",
       "      <td>Exception</td>\n",
       "      <td>No Exception</td>\n",
       "      <td>No Exception</td>\n",
       "      <td>Exception</td>\n",
       "      <td>No</td>\n",
       "      <td>2023-12-07 20:04:44.628874</td>\n",
       "      <td>2023-12-07 20:04:44.628874</td>\n",
       "      <td>2</td>\n",
       "      <td>2023-12-07</td>\n",
       "      <td>2023</td>\n",
       "      <td>sharuk.khan</td>\n",
       "      <td>test</td>\n",
       "    </tr>\n",
       "    <tr>\n",
       "      <th>4</th>\n",
       "      <td>WK01</td>\n",
       "      <td>1000105</td>\n",
       "      <td>2</td>\n",
       "      <td>52</td>\n",
       "      <td>No Exception</td>\n",
       "      <td>No Exception</td>\n",
       "      <td>No Exception</td>\n",
       "      <td>No Exception</td>\n",
       "      <td>No Exception</td>\n",
       "      <td>No</td>\n",
       "      <td>2023-12-07 20:04:45.634747</td>\n",
       "      <td>2023-12-07 20:04:45.634747</td>\n",
       "      <td>4</td>\n",
       "      <td>2023-12-07</td>\n",
       "      <td>2023</td>\n",
       "      <td>sharuk.khan</td>\n",
       "      <td>test</td>\n",
       "    </tr>\n",
       "  </tbody>\n",
       "</table>\n",
       "</div>"
      ],
      "text/plain": [
       "     WK  RMS_FDS_ID  Hier  wk_input        Market     Hierarchy        Period  \\\n",
       "0  WK01     1000101     2        52  No Exception  No Exception  No Exception   \n",
       "1  WK01     1000102     2        52  No Exception  No Exception  No Exception   \n",
       "2  WK01     1000103     2        52  No Exception  No Exception  No Exception   \n",
       "3  WK01     1000104     2        52  No Exception     Exception  No Exception   \n",
       "4  WK01     1000105     2        52  No Exception  No Exception  No Exception   \n",
       "\n",
       "       SoftChar   DataCompare ErrorInCode                  start_time  \\\n",
       "0  No Exception  No Exception          No  2023-12-07 20:04:42.616810   \n",
       "1  No Exception  No Exception          No  2023-12-07 20:04:42.616810   \n",
       "2  No Exception  No Exception          No  2023-12-07 20:04:43.622716   \n",
       "3  No Exception     Exception          No  2023-12-07 20:04:44.628874   \n",
       "4  No Exception  No Exception          No  2023-12-07 20:04:45.634747   \n",
       "\n",
       "                     end_time  TotalRunTime    DateRun  YearRun     UserName  \\\n",
       "0  2023-12-07 20:04:41.613560             4 2023-12-07     2023  sharuk.khan   \n",
       "1  2023-12-07 20:04:42.616810             6 2023-12-07     2023  sharuk.khan   \n",
       "2  2023-12-07 20:04:43.622716             8 2023-12-07     2023  sharuk.khan   \n",
       "3  2023-12-07 20:04:44.628874             2 2023-12-07     2023  sharuk.khan   \n",
       "4  2023-12-07 20:04:45.634747             4 2023-12-07     2023  sharuk.khan   \n",
       "\n",
       "  Usercomments  \n",
       "0         test  \n",
       "1         test  \n",
       "2         test  \n",
       "3         test  \n",
       "4         test  "
      ]
     },
     "execution_count": 242,
     "metadata": {},
     "output_type": "execute_result"
    }
   ],
   "source": [
    "df.head()"
   ]
  },
  {
   "cell_type": "code",
   "execution_count": 138,
   "id": "21c32ced",
   "metadata": {},
   "outputs": [
    {
     "data": {
      "text/plain": [
       "(22, 17)"
      ]
     },
     "execution_count": 138,
     "metadata": {},
     "output_type": "execute_result"
    }
   ],
   "source": [
    "df.shape"
   ]
  },
  {
   "cell_type": "markdown",
   "id": "9c9f7b76",
   "metadata": {},
   "source": [
    "#### histogram"
   ]
  },
  {
   "cell_type": "code",
   "execution_count": 81,
   "id": "4777c243",
   "metadata": {},
   "outputs": [
    {
     "name": "stderr",
     "output_type": "stream",
     "text": [
      "No artists with labels found to put in legend.  Note that artists whose label start with an underscore are ignored when legend() is called with no argument.\n"
     ]
    },
    {
     "data": {
      "image/png": "[encoded data removed]",
      "text/plain": [
       "<Figure size 504x216 with 1 Axes>"
      ]
     },
     "metadata": {
      "needs_background": "light"
     },
     "output_type": "display_data"
    }
   ],
   "source": [
    "### histogram\n",
    "import matplotlib.pyplot as plt\n",
    "\n",
    "x = df[\"TotalRunTime\"]\n",
    "# Increase the size of the chart\n",
    "plt.figure(figsize=(7, 3))\n",
    "\n",
    "# Plot the data\n",
    "plt.hist(x)\n",
    "\n",
    "# Add labels and title\n",
    "plt.xlabel('X-axis Label')\n",
    "plt.ylabel('Y-axis Label')\n",
    "plt.title('My Chart')\n",
    "\n",
    "# Add legend\n",
    "plt.legend()\n",
    "\n",
    "# Show the plot\n",
    "plt.show()"
   ]
  },
  {
   "cell_type": "code",
   "execution_count": 100,
   "id": "7d109df6",
   "metadata": {},
   "outputs": [
    {
     "data": {
      "image/png": "[encoded data removed]",
      "text/plain": [
       "<Figure size 144x144 with 1 Axes>"
      ]
     },
     "metadata": {
      "needs_background": "light"
     },
     "output_type": "display_data"
    }
   ],
   "source": [
    "import matplotlib.pyplot as plt\n",
    "\n",
    "# Sample data\n",
    "data = [['John', 25, 'New York'],\n",
    "        ['Alice', 30, 'Paris'],\n",
    "        ['Bob', 22, 'London'],\n",
    "        ['Charlie', 35, 'Tokyo']]\n",
    "\n",
    "# Create a figure and axis\n",
    "fig, ax = plt.subplots()\n",
    "\n",
    "# Create a table\n",
    "table = ax.table(cellText=data, loc='center', colLabels=['Name', 'Age', 'City'], cellLoc='center', colLoc='center')\n",
    "\n",
    "# Hide the axes\n",
    "ax.axis('off')\n",
    "\n",
    "# Show the plot\n",
    "plt.show()\n"
   ]
  },
  {
   "cell_type": "code",
   "execution_count": 99,
   "id": "95cff5a5",
   "metadata": {},
   "outputs": [
    {
     "data": {
      "image/png": "[encoded data removed]",
      "text/plain": [
       "<Figure size 720x432 with 1 Axes>"
      ]
     },
     "metadata": {
      "needs_background": "light"
     },
     "output_type": "display_data"
    }
   ],
   "source": [
    "import matplotlib.pyplot as plt\n",
    "import numpy as np\n",
    "\n",
    "# Sample data\n",
    "category = ('Market', 'Hierarchy', 'Period', 'SoftChar', 'DataCompare')\n",
    "excep_counts = {\n",
    "    'No Exception': [df[\"Market\"].value_counts()[0],\n",
    "                     df[\"Hierarchy\"].value_counts()[0],\n",
    "                     df[\"Period\"].value_counts()[0],\n",
    "                     df[\"SoftChar\"].value_counts()[0],\n",
    "                     df[\"DataCompare\"].value_counts()[0]\n",
    "                     ],\n",
    "    'Exception': [df[\"Market\"].value_counts()[1],\n",
    "                  df[\"Hierarchy\"].value_counts()[1],\n",
    "                  df[\"Period\"].value_counts()[1],\n",
    "                  df[\"SoftChar\"].value_counts()[1],\n",
    "                  df[\"DataCompare\"].value_counts()[1]\n",
    "                  ]\n",
    "}\n",
    "\n",
    "width = 0.6  # the width of the bars: can also be len(x) sequence\n",
    "\n",
    "# Increase the size of the chart when creating the subplots\n",
    "fig, ax = plt.subplots(figsize=(10, 6))\n",
    "\n",
    "bottom = np.zeros(5)\n",
    "\n",
    "for excep, excep_count in excep_counts.items():\n",
    "    p = ax.bar(category, excep_count, width, label=excep, bottom=bottom)\n",
    "    bottom += excep_count\n",
    "\n",
    "    ax.bar_label(p, label_type='center')\n",
    "\n",
    "ax.set_title('Number of Exceptions by Category')\n",
    "ax.legend()\n",
    "\n",
    "# Remove the following line as it is not needed\n",
    "# plt.figure(figsize=(7, 3), dpi=200)\n",
    "\n",
    "# Show the plot\n",
    "plt.show()\n"
   ]
  },
  {
   "cell_type": "code",
   "execution_count": 121,
   "id": "96af638d",
   "metadata": {},
   "outputs": [
    {
     "data": {
      "image/png": "[encoded data removed]",
      "text/plain": [
       "<Figure size 720x72 with 1 Axes>"
      ]
     },
     "metadata": {
      "needs_background": "light"
     },
     "output_type": "display_data"
    }
   ],
   "source": [
    "import pandas as pd\n",
    "import numpy as np\n",
    "import matplotlib.pyplot as plt\n",
    "\n",
    "# Create a DataFrame with 1000 rows and 5 columns\n",
    "# data = np.random.rand(10, 2)\n",
    "# columns = ['Column1', 'Column2']\n",
    "df_table = df[df[\"ErrorInCode\"]==\"Yes\"]\n",
    "df_table = df_table.loc[:,[\"WK\",\"RMS_FDS_ID\",\"ErrorInCode\"]]\n",
    "\n",
    "# Display the table using pandas and matplotlib\n",
    "fig, ax = plt.subplots(figsize=(10, 1))\n",
    "ax.axis('off')  # Turn off the axis\n",
    "\n",
    "# Display the table\n",
    "table = ax.table(cellText=df_table.values, colLabels=df_table.columns, loc='center', cellLoc='center', colColours=['#f0f0f0']*df_table.shape[1])\n",
    "table.auto_set_font_size(False)\n",
    "table.set_fontsize(8)\n",
    "table.scale(1.2, 1.2)\n",
    "\n",
    "plt.show()\n"
   ]
  },
  {
   "cell_type": "code",
   "execution_count": null,
   "id": "aec488a8",
   "metadata": {},
   "outputs": [],
   "source": []
  },
  {
   "cell_type": "code",
   "execution_count": null,
   "id": "a525a657",
   "metadata": {},
   "outputs": [],
   "source": []
  },
  {
   "cell_type": "code",
   "execution_count": 265,
   "id": "4662c75b",
   "metadata": {},
   "outputs": [
    {
     "data": {
      "text/html": [
       " <h1><center>Dashboard - Automation Insights</center></h1>"
      ],
      "text/plain": [
       "<IPython.core.display.HTML object>"
      ]
     },
     "metadata": {},
     "output_type": "display_data"
    },
    {
     "data": {
      "text/html": [
       " <h4>Select your inputs: </h4>"
      ],
      "text/plain": [
       "<IPython.core.display.HTML object>"
      ]
     },
     "metadata": {},
     "output_type": "display_data"
    },
    {
     "data": {
      "application/vnd.jupyter.widget-view+json": {
       "model_id": "55e77a608d8247d08baf53f48d3c375a",
       "version_major": 2,
       "version_minor": 0
      },
      "text/plain": [
       "interactive(children=(Dropdown(description='WK No.', index=3, options=('WK01', 'WK02', 'WK03', 'All'), value='…"
      ]
     },
     "metadata": {},
     "output_type": "display_data"
    },
    {
     "data": {
      "text/plain": [
       "<function __main__.update_plots(wk_value, year_value, user_value)>"
      ]
     },
     "execution_count": 265,
     "metadata": {},
     "output_type": "execute_result"
    }
   ],
   "source": [
    "import pandas as pd\n",
    "import matplotlib.pyplot as plt\n",
    "import numpy as np\n",
    "import ipywidgets as widgets\n",
    "from ipywidgets import interact\n",
    "from IPython.display import HTML\n",
    "\n",
    "\n",
    "\n",
    "\n",
    "# Read the dataset\n",
    "df = pd.read_excel(r\"C:\\Users\\SHARUK KHAN M\\Desktop\\NIQ_projecttests\\Output_file.xlsx\")\n",
    "\n",
    "# Function to update the plots based on widget values\n",
    "def update_plots(wk_value, year_value, user_value):\n",
    "    display(HTML(\" <h4>Insight Dashboard: </h4>\"))\n",
    "\n",
    "    try:\n",
    "        filtered_df = df.copy()\n",
    "\n",
    "        # Filter data based on widget values\n",
    "        if wk_value != \"All\":\n",
    "            filtered_df = filtered_df[filtered_df[\"WK\"] == wk_value]\n",
    "        if year_value != \"All\":\n",
    "            filtered_df = filtered_df[filtered_df[\"YearRun\"] == year_value]\n",
    "        if user_value != \"All\":\n",
    "            filtered_df = filtered_df[filtered_df[\"UserName\"] == user_value]\n",
    "\n",
    "        # Check if there is data for the selected filters\n",
    "        if filtered_df.empty:\n",
    "            print(\"No data available for the selected filters.\")\n",
    "            return\n",
    "        \n",
    "        # Combine last two plots into a single table\n",
    "        df_table = filtered_df[filtered_df[\"ErrorInCode\"] == \"Yes\"]\n",
    "        # Set up the subplots\n",
    "        fig, axes = plt.subplots(nrows=2, ncols=2, figsize=(15, 9+(len(df_table)/2)), dpi=300, edgecolor='black', linewidth=5.2)\n",
    "\n",
    "        # Set the selected theme\n",
    "        plt.style.use(\"seaborn-darkgrid\")\n",
    "\n",
    "        # Plot 1: Histogram\n",
    "        x = filtered_df[\"TotalRunTime\"]\n",
    "        axes[0, 1].hist(x)\n",
    "        axes[0, 1].set_xlabel('Time Taken for each FDS(in seconds)')\n",
    "        axes[0, 1].set_ylabel('Frequency')\n",
    "        axes[0, 1].set_title('\\nRun Time Distribution(in secs)\\n\\nMinimum  = %s      Maximum  = %s      Average  = %s\\n'%(str(x.min()),str(x.max()),str(round(np.mean(x)))), fontweight='bold')  # Set title as bold\n",
    "\n",
    "        # Plot 2: Bar Chart\n",
    "        category = ('Market', 'Hierarchy', 'Period', 'SoftChar', 'DataCompare')\n",
    "        excep_counts = {\n",
    "            'No Exception': [len(filtered_df[filtered_df[\"Market\"] == \"No Exception\"]),\n",
    "                             len(filtered_df[filtered_df[\"Hierarchy\"] == \"No Exception\"]),\n",
    "                             len(filtered_df[filtered_df[\"Period\"] == \"No Exception\"]),\n",
    "                             len(filtered_df[filtered_df[\"SoftChar\"] == \"No Exception\"]),\n",
    "                             len(filtered_df[filtered_df[\"DataCompare\"] == \"No Exception\"])\n",
    "                             ],\n",
    "            'Exception': [len(filtered_df[filtered_df[\"Market\"] == \"Exception\"]),\n",
    "                           len(filtered_df[filtered_df[\"Hierarchy\"] == \"Exception\"]),\n",
    "                           len(filtered_df[filtered_df[\"Period\"] == \"Exception\"]),\n",
    "                           len(filtered_df[filtered_df[\"SoftChar\"] == \"Exception\"]),\n",
    "                           len(filtered_df[filtered_df[\"DataCompare\"] == \"Exception\"])\n",
    "                           ]\n",
    "        }\n",
    "\n",
    "        width = 0.6\n",
    "\n",
    "        bottom = np.zeros(5)\n",
    "\n",
    "        for excep, excep_count in excep_counts.items():\n",
    "            p = axes[0, 0].bar(category, excep_count, width, label=excep, bottom=bottom)\n",
    "            bottom += excep_count\n",
    "            axes[0, 0].bar_label(p, label_type='center')\n",
    "\n",
    "        axes[0, 0].set_title('\\nException and No-Exception Insights\\n', fontweight='bold')  # Set title as bold\n",
    "        axes[0, 0].legend()\n",
    "\n",
    "        \n",
    "        \n",
    "        # Combine last two plots into a single table\n",
    "        df_table = filtered_df[filtered_df[\"ErrorInCode\"] == \"Yes\"]\n",
    "\n",
    "        if df_table.empty:\n",
    "            axes[1, 1].axis('off')\n",
    "            axes[1, 1].text(0.5, 0.5, \"There is no Error in code observations for the selected dropdown\",\n",
    "                            fontsize=16, ha='center', va='center')\n",
    "        else:\n",
    "            df_table = df_table.loc[:, [\"WK\", \"RMS_FDS_ID\", \"ErrorInCode\"]]\n",
    "            axes[1, 1].axis('off')\n",
    "            table = axes[1, 1].table(cellText=df_table.values, colLabels=df_table.columns, loc='center', cellLoc='center', colColours=['#f0f0f0'] * df_table.shape[1])\n",
    "            table.auto_set_font_size(False)\n",
    "            table.set_fontsize(10)\n",
    "            table.scale(1.2, 1.2)\n",
    "            axes[1, 1].set_title('Exception Log: WK and FDS IDs', fontweight='bold')  # Set title as bold\n",
    "\n",
    "        labels = [\"No Exception\",\"Exception\"]\n",
    "        sizes = [count_of_str(\"No Exception\",filtered_df),count_of_str(\"Exception\",filtered_df)]\n",
    "\n",
    "        axes[1, 0].pie(sizes, labels=labels ,autopct='%1.1f%%')\n",
    "        axes[1, 0].set_title('Overall Scenario: Exceptions and No Exceptions Cases', fontweight='bold')\n",
    "#         # Remove axes[1, 1] as it is not needed\n",
    "#         fig.delaxes(axes[1, 1])\n",
    "\n",
    "        # Adjust layout with some space between plots\n",
    "        plt.tight_layout(pad=3)\n",
    "\n",
    "        # Show the plot\n",
    "        plt.show()\n",
    "\n",
    "    except Exception as e:\n",
    "        print(f\"An error occurred: {e}\")\n",
    "\n",
    "# Creating Dropdowns\n",
    "lst_wk_values = list(df[\"WK\"].unique())\n",
    "lst_wk_values.append(\"All\")\n",
    "\n",
    "lst_year_values = list(df[\"YearRun\"].unique())\n",
    "lst_year_values.append(\"All\")\n",
    "\n",
    "lst_username_values = list(df[\"UserName\"].unique())\n",
    "lst_username_values.append(\"All\")\n",
    "\n",
    "wid_wk = widgets.Dropdown(description=\"WK No.\", options=lst_wk_values, index=len(lst_wk_values) - 1)\n",
    "wid_yr = widgets.Dropdown(description=\"Year\", options=lst_year_values, index=len(lst_year_values) - 1)\n",
    "wid_user = widgets.Dropdown(description=\"User\", options=lst_username_values, index=len(lst_username_values) - 1)\n",
    "\n",
    "\n",
    "display(HTML(\" <h1><center>Dashboard - Automation Insights</center></h1>\"))\n",
    "display(HTML(\" <h4>Select your inputs: </h4>\"))\n",
    "\n",
    "interact(update_plots, wk_value=wid_wk, year_value=wid_yr, user_value=wid_user)"
   ]
  },
  {
   "cell_type": "code",
   "execution_count": 253,
   "id": "a4136891",
   "metadata": {},
   "outputs": [],
   "source": [
    "import pandas as pd\n",
    "\n",
    "\n",
    "# String to count\n",
    "def count_of_str(given_string,df):\n",
    "    total_count = (df == given_string).sum().sum()\n",
    "    return total_count"
   ]
  },
  {
   "cell_type": "code",
   "execution_count": 254,
   "id": "2ff4a25b",
   "metadata": {},
   "outputs": [
    {
     "data": {
      "text/plain": [
       "84"
      ]
     },
     "execution_count": 254,
     "metadata": {},
     "output_type": "execute_result"
    }
   ],
   "source": [
    "count_of_str(\"No Exception\",df)"
   ]
  },
  {
   "cell_type": "code",
   "execution_count": 259,
   "id": "081ce4ff",
   "metadata": {},
   "outputs": [
    {
     "data": {
      "text/plain": [
       "([<matplotlib.patches.Wedge at 0x2d5d6c3d8b0>,\n",
       "  <matplotlib.patches.Wedge at 0x2d5d6c3d2e0>],\n",
       " [Text(-1.0039316154391347, 0.449579038125411, 'No Exception'),\n",
       "  Text(1.0039315943928198, -0.4495790851228413, 'Exception')],\n",
       " [Text(-0.5475990629668006, 0.24522492988658778, '86.6%'),\n",
       "  Text(0.5475990514869925, -0.24522495552154977, '13.4%')])"
      ]
     },
     "execution_count": 259,
     "metadata": {},
     "output_type": "execute_result"
    },
    {
     "data": {
      "image/png": "[encoded data removed]",
      "text/plain": [
       "<Figure size 640x480 with 1 Axes>"
      ]
     },
     "metadata": {},
     "output_type": "display_data"
    }
   ],
   "source": [
    "import matplotlib.pyplot as plt\n",
    "\n",
    "labels = [\"No Exception\",\"Exception\"]\n",
    "sizes = [count_of_str(\"No Exception\",df),count_of_str(\"Exception\",df)]\n",
    "\n",
    "fig, ax = plt.subplots()\n",
    "ax.pie(sizes, labels=labels ,autopct='%1.1f%%')"
   ]
  },
  {
   "cell_type": "code",
   "execution_count": null,
   "id": "2d9e0b97",
   "metadata": {},
   "outputs": [],
   "source": []
  },
  {
   "cell_type": "code",
   "execution_count": null,
   "id": "3c17058f",
   "metadata": {},
   "outputs": [],
   "source": []
  },
  {
   "cell_type": "code",
   "execution_count": null,
   "id": "1961dc62",
   "metadata": {},
   "outputs": [],
   "source": []
  },
  {
   "cell_type": "code",
   "execution_count": null,
   "id": "3f800587",
   "metadata": {},
   "outputs": [],
   "source": [
    "!pip install ipympl"
   ]
  },
  {
   "cell_type": "markdown",
   "id": "88b4de6c",
   "metadata": {},
   "source": [
    "### Learn Plot"
   ]
  },
  {
   "cell_type": "code",
   "execution_count": 1,
   "id": "01fa051c",
   "metadata": {},
   "outputs": [],
   "source": [
    "import pandas as pd\n",
    "import numpy as np\n",
    "\n",
    "import matplotlib.pyplot as plt\n",
    "import ipywidgets as widgets\n",
    "\n",
    "import warnings\n",
    "warnings.filterwarnings(\"ignore\")\n",
    "\n",
    "# %matplotlib widget"
   ]
  },
  {
   "cell_type": "code",
   "execution_count": 2,
   "id": "1c71e70f",
   "metadata": {},
   "outputs": [
    {
     "data": {
      "text/html": [
       "<div>\n",
       "<style scoped>\n",
       "    .dataframe tbody tr th:only-of-type {\n",
       "        vertical-align: middle;\n",
       "    }\n",
       "\n",
       "    .dataframe tbody tr th {\n",
       "        vertical-align: top;\n",
       "    }\n",
       "\n",
       "    .dataframe thead th {\n",
       "        text-align: right;\n",
       "    }\n",
       "</style>\n",
       "<table border=\"1\" class=\"dataframe\">\n",
       "  <thead>\n",
       "    <tr style=\"text-align: right;\">\n",
       "      <th></th>\n",
       "      <th>sepal length (cm)</th>\n",
       "      <th>sepal width (cm)</th>\n",
       "      <th>petal length (cm)</th>\n",
       "      <th>petal width (cm)</th>\n",
       "      <th>FlowerType</th>\n",
       "    </tr>\n",
       "  </thead>\n",
       "  <tbody>\n",
       "    <tr>\n",
       "      <th>0</th>\n",
       "      <td>5.1</td>\n",
       "      <td>3.5</td>\n",
       "      <td>1.4</td>\n",
       "      <td>0.2</td>\n",
       "      <td>0</td>\n",
       "    </tr>\n",
       "    <tr>\n",
       "      <th>1</th>\n",
       "      <td>4.9</td>\n",
       "      <td>3.0</td>\n",
       "      <td>1.4</td>\n",
       "      <td>0.2</td>\n",
       "      <td>0</td>\n",
       "    </tr>\n",
       "    <tr>\n",
       "      <th>2</th>\n",
       "      <td>4.7</td>\n",
       "      <td>3.2</td>\n",
       "      <td>1.3</td>\n",
       "      <td>0.2</td>\n",
       "      <td>0</td>\n",
       "    </tr>\n",
       "    <tr>\n",
       "      <th>3</th>\n",
       "      <td>4.6</td>\n",
       "      <td>3.1</td>\n",
       "      <td>1.5</td>\n",
       "      <td>0.2</td>\n",
       "      <td>0</td>\n",
       "    </tr>\n",
       "    <tr>\n",
       "      <th>4</th>\n",
       "      <td>5.0</td>\n",
       "      <td>3.6</td>\n",
       "      <td>1.4</td>\n",
       "      <td>0.2</td>\n",
       "      <td>0</td>\n",
       "    </tr>\n",
       "  </tbody>\n",
       "</table>\n",
       "</div>"
      ],
      "text/plain": [
       "   sepal length (cm)  sepal width (cm)  petal length (cm)  petal width (cm)  \\\n",
       "0                5.1               3.5                1.4               0.2   \n",
       "1                4.9               3.0                1.4               0.2   \n",
       "2                4.7               3.2                1.3               0.2   \n",
       "3                4.6               3.1                1.5               0.2   \n",
       "4                5.0               3.6                1.4               0.2   \n",
       "\n",
       "   FlowerType  \n",
       "0           0  \n",
       "1           0  \n",
       "2           0  \n",
       "3           0  \n",
       "4           0  "
      ]
     },
     "execution_count": 2,
     "metadata": {},
     "output_type": "execute_result"
    }
   ],
   "source": [
    "from sklearn.datasets import load_iris\n",
    "\n",
    "iris = load_iris()\n",
    "\n",
    "iris_df = pd.DataFrame(data=iris.data, columns=iris.feature_names)\n",
    "iris_df[\"FlowerType\"] = iris.target #[iris.target_names[t] for t in iris.target]\n",
    "\n",
    "iris_df.head()"
   ]
  },
  {
   "cell_type": "code",
   "execution_count": 28,
   "id": "f8f81b48",
   "metadata": {},
   "outputs": [],
   "source": [
    "def create_scatter(feature1, feature2):\n",
    "    with plt.style.context(\"ggplot\"):\n",
    "        fig = plt.figure(figsize=(8,4))\n",
    "\n",
    "        plt.scatter(x = iris_df[feature1],\n",
    "                    y = iris_df[feature2],\n",
    "                    c=iris_df[\"FlowerType\"],\n",
    "                    s=20\n",
    "                   )\n",
    "\n",
    "        plt.xlabel(feature1.capitalize())\n",
    "        plt.ylabel(feature2.capitalize())\n",
    "\n",
    "        plt.title(\"%s vssss %s\"%(feature1.capitalize(), feature2.capitalize()))"
   ]
  },
  {
   "cell_type": "code",
   "execution_count": 29,
   "id": "f4ed9dee",
   "metadata": {},
   "outputs": [
    {
     "data": {
      "application/vnd.jupyter.widget-view+json": {
       "model_id": "cd70d6f7a1f842f58d9f9e00992b33d2",
       "version_major": 2,
       "version_minor": 0
      },
      "text/plain": [
       "Dropdown(options=('sepal length (cm)', 'sepal width (cm)', 'petal length (cm)', 'petal width (cm)'), value='se…"
      ]
     },
     "metadata": {},
     "output_type": "display_data"
    }
   ],
   "source": [
    "feature1_drop = widgets.Dropdown(options=iris.feature_names, value = iris.feature_names[0])\n",
    "feature1_drop"
   ]
  },
  {
   "cell_type": "code",
   "execution_count": 30,
   "id": "ec0903ff",
   "metadata": {},
   "outputs": [
    {
     "data": {
      "application/vnd.jupyter.widget-view+json": {
       "model_id": "3fd75e81e8354eb59d3090f1c12eaf45",
       "version_major": 2,
       "version_minor": 0
      },
      "text/plain": [
       "Dropdown(index=1, options=('sepal length (cm)', 'sepal width (cm)', 'petal length (cm)', 'petal width (cm)'), …"
      ]
     },
     "metadata": {},
     "output_type": "display_data"
    }
   ],
   "source": [
    "feature2_drop = widgets.Dropdown(options=iris.feature_names, value = iris.feature_names[1])\n",
    "feature2_drop"
   ]
  },
  {
   "cell_type": "code",
   "execution_count": 31,
   "id": "960ffd88",
   "metadata": {},
   "outputs": [],
   "source": [
    "out = widgets.interactive_output(create_scatter, {'feature1': feature1_drop, 'feature2':feature2_drop})"
   ]
  },
  {
   "cell_type": "code",
   "execution_count": 32,
   "id": "b016698e",
   "metadata": {},
   "outputs": [
    {
     "data": {
      "application/vnd.jupyter.widget-view+json": {
       "model_id": "d6badfa1f1db4fd38597c9235343356d",
       "version_major": 2,
       "version_minor": 0
      },
      "text/plain": [
       "VBox(children=(HBox(children=(Dropdown(options=('sepal length (cm)', 'sepal width (cm)', 'petal length (cm)', …"
      ]
     },
     "metadata": {},
     "output_type": "display_data"
    }
   ],
   "source": [
    "widgets.VBox([widgets.HBox([feature1_drop, feature2_drop]), out])"
   ]
  },
  {
   "cell_type": "code",
   "execution_count": null,
   "id": "05cf6794",
   "metadata": {},
   "outputs": [],
   "source": []
  },
  {
   "cell_type": "code",
   "execution_count": null,
   "id": "3d29d770",
   "metadata": {},
   "outputs": [],
   "source": []
  },
  {
   "cell_type": "code",
   "execution_count": null,
   "id": "3e0d97fc",
   "metadata": {},
   "outputs": [],
   "source": []
  },
  {
   "cell_type": "code",
   "execution_count": null,
   "id": "06a260b7",
   "metadata": {},
   "outputs": [],
   "source": []
  },
  {
   "cell_type": "code",
   "execution_count": null,
   "id": "563b661c",
   "metadata": {},
   "outputs": [],
   "source": []
  }
 ],
 "metadata": {
  "kernelspec": {
   "display_name": "Python 3 (ipykernel)",
   "language": "python",
   "name": "python3"
  },
  "language_info": {
   "codemirror_mode": {
    "name": "ipython",
    "version": 3
   },
   "file_extension": ".py",
   "mimetype": "text/x-python",
   "name": "python",
   "nbconvert_exporter": "python",
   "pygments_lexer": "ipython3",
   "version": "3.9.12"
  },
  "varInspector": {
   "cols": {
    "lenName": 16,
    "lenType": 16,
    "lenVar": 40
   },
   "kernels_config": {
    "python": {
     "delete_cmd_postfix": "",
     "delete_cmd_prefix": "del ",
     "library": "var_list.py",
     "varRefreshCmd": "print(var_dic_list())"
    },
    "r": {
     "delete_cmd_postfix": ") ",
     "delete_cmd_prefix": "rm(",
     "library": "var_list.r",
     "varRefreshCmd": "cat(var_dic_list()) "
    }
   },
   "types_to_exclude": [
    "module",
    "function",
    "builtin_function_or_method",
    "instance",
    "_Feature"
   ],
   "window_display": false
  }
 },
 "nbformat": 4,
 "nbformat_minor": 5
}
