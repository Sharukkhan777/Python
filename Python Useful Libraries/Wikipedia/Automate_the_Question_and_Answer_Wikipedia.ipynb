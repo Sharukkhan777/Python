{
  "nbformat": 4,
  "nbformat_minor": 0,
  "metadata": {
    "colab": {
      "name": "Automate the Question and Answer Wikipedia.ipynb",
      "provenance": [],
      "collapsed_sections": []
    },
    "kernelspec": {
      "name": "python3",
      "display_name": "Python 3"
    }
  },
  "cells": [
    {
      "cell_type": "code",
      "metadata": {
        "id": "-lDRQHYktRpH",
        "colab_type": "code",
        "colab": {}
      },
      "source": [
        "def percentage_similar_words(question_sentence, available_sentence):\n",
        "\n",
        "    # split the sentence into words \n",
        "    list1 = question_sentence.lower().split(\" \")\n",
        "    try:\n",
        "        list2 = available_sentence.lower().split(\" \")\n",
        "    except:\n",
        "        pass\n",
        "\n",
        "    # no.of similar sentences\n",
        "    list_of_similar_words = set(list1) & set(list2)\n",
        "    list_of_similar_words = list(list_of_similar_words)\n",
        "\n",
        "    # calculate the percentage\n",
        "    percentage_of_similarity = (len(list_of_similar_words)/len(list1) )*100\n",
        "\n",
        "    return percentage_of_similarity\n"
      ],
      "execution_count": 125,
      "outputs": []
    },
    {
      "cell_type": "markdown",
      "metadata": {
        "id": "ncXJV6OQwvqn",
        "colab_type": "text"
      },
      "source": [
        "# Wikipedia Library"
      ]
    },
    {
      "cell_type": "code",
      "metadata": {
        "id": "unDjPnfFwwMX",
        "colab_type": "code",
        "colab": {}
      },
      "source": [
        "import wikipedia"
      ],
      "execution_count": 13,
      "outputs": []
    },
    {
      "cell_type": "code",
      "metadata": {
        "id": "btZbYki2wwJH",
        "colab_type": "code",
        "colab": {
          "base_uri": "https://localhost:8080/",
          "height": 55
        },
        "outputId": "c6333eec-1e41-4500-b91d-6825236f2b9f"
      },
      "source": [
        "result = wikipedia.summary(\"who is the prime minister of india now\")\n",
        "print(result)"
      ],
      "execution_count": 45,
      "outputs": [
        {
          "output_type": "stream",
          "text": [
            "The Prime Minister of India is the chief executive of the Government of India. In India's parliamentary system, the Constitution names the President as head of state de jure, but his or her de facto executive powers are vested in the prime minister and their Council of Ministers. Appointed and sworn-in by the President, the prime minister is usually the leader of the party or alliance that has a majority in the Lok Sabha, the lower house of Parliament of India.Since 1947 India has had 14 prime ministers, 15 including Gulzarilal Nanda who twice acted in the role of which 6 having at least one full term, ruling country for about 60 years. The first was Jawaharlal Nehru of the Indian National Congress party, who was sworn in on 15 August 1947, when India gained independence from the British Raj. Serving until his death in May 1964, Nehru remains India's longest-serving prime minister. He was succeeded by fellow Congressman Lal Bahadur Shastri, whose 1 year 7-month term also ended in death. Indira Gandhi, Nehru's daughter, succeeded Shastri in 1966 to become the country's first woman prime minister. Eleven years later, she was voted out of power in favour of the Janata Party, whose leader Morarji Desai became the first non-Congress prime minister. After he resigned in 1979, his former deputy Charan Singh briefly held office until Indira Gandhi was voted back six months later. Her second stint as prime minister ended five years later on 31 October 1984, when she was assassinated by her own bodyguards. Her son Rajiv Gandhi was then sworn in as India's youngest premier and the third from his family. Members of Nehru–Gandhi family have been prime minister for a total of 37 years and 303 days.Rajiv's five-year term ended with his former cabinet colleague, Vishwanath Pratap Singh of the Janata Dal, forming the year-long National Front coalition government in 1989. A seven-month interlude under prime minister Chandra Shekhar followed, after which the Congress party returned to power, forming the government under P. V. Narasimha Rao in June 1991. Rao's five-year term was succeeded by four short-lived governments—Atal Bihari Vajpayee from the Bharatiya Janata Party (BJP) for 13 days in 1996, a year each under United Front prime ministers H. D. Deve Gowda and Inder Kumar Gujral, and Vajpayee again for 19 months in 1998–99. After Vajpayee was sworn-in for the third time, in 1999, he managed to lead his National Democratic Alliance (NDA) government to a full five-year term, the first non-Congress alliance to do so. Vajpayee was succeeded by Manmohan Singh, whose United Progressive Alliance government was in office for 10 years between 2004 and 2014. The incumbent prime minister of India is Narendra Modi who has headed the BJP-led NDA government since 26 May 2014, is India's first non-Congress single party majority government.\n"
          ],
          "name": "stdout"
        }
      ]
    },
    {
      "cell_type": "markdown",
      "metadata": {
        "id": "WkzK-Z433En2",
        "colab_type": "text"
      },
      "source": [
        "Question Asking session"
      ]
    },
    {
      "cell_type": "code",
      "metadata": {
        "id": "n0ZWEDF9wwDf",
        "colab_type": "code",
        "colab": {
          "base_uri": "https://localhost:8080/",
          "height": 126
        },
        "outputId": "e15bbbfc-bc87-42c5-b41f-d254aba08f1f"
      },
      "source": [
        "# run this to ask question\n",
        "question_str = str(input(\"Ask your question: \\n\"))\n",
        "\n",
        "# how many options\n",
        "val_option_number = int(input(\"How many options: \\n\"))\n",
        "\n",
        "option_dict = {}\n",
        "for i in range(val_option_number):\n",
        "    exec(\"option_\"+str(i+1)+ \" = str(input('Enter option\"+ str(i+1)+\" = '))\")\n",
        "    exec(\"option_dict.update({'option_\"+str(i+1)+\"':option_\"+str(i+1)+\"})\")"
      ],
      "execution_count": 128,
      "outputs": [
        {
          "output_type": "stream",
          "text": [
            "Ask your question: \n",
            "prime minister of india now\n",
            "How many options: \n",
            "2\n",
            "Enter option1 = modi\n",
            "Enter option2 = manmohan\n"
          ],
          "name": "stdout"
        }
      ]
    },
    {
      "cell_type": "code",
      "metadata": {
        "id": "ZY-9pcTtwwBE",
        "colab_type": "code",
        "colab": {
          "base_uri": "https://localhost:8080/",
          "height": 72
        },
        "outputId": "de3c2356-e0b6-41ca-f1aa-1d778d243486"
      },
      "source": [
        "import wikipedia\n",
        "result = wikipedia.summary(question_str)\n",
        "\n",
        "# convert all string into lower\n",
        "result_lower_case = result.lower()\n",
        "\n",
        "# split the list\n",
        "result_split = result_lower_case.split(\" \")\n",
        "\n",
        "list_of_options = []\n",
        "list_of_value_similarity = []\n",
        "\n",
        "for i in option_dict.values():\n",
        "    try:\n",
        "        index_of_option = result_split.index(str(i))\n",
        "\n",
        "        # take the 10 words before and after \n",
        "        val_before_10 = index_of_option - 10\n",
        "        val_after_10 = index_of_option + 10\n",
        "        # take the words\n",
        "        answer_sentences = result_split[val_before_10:val_after_10]\n",
        "        answer_sentences_join = \" \".join(answer_sentences)\n",
        "\n",
        "        percentage_similarity = percentage_similar_words(question_str,answer_sentences_join)\n",
        "        list_of_options.append(i)\n",
        "        list_of_value_similarity.append(percentage_similarity)\n",
        "    except:\n",
        "        list_of_options.append(i)\n",
        "        list_of_value_similarity.append(0)\n",
        "\n",
        "import pandas as pd\n",
        "result_df = pd.DataFrame({\"Options\":list_of_options,\n",
        "                         \"Percentage_similarity\":list_of_value_similarity})\n",
        "\n",
        "\n",
        "\n",
        "print(result_df)\n"
      ],
      "execution_count": 129,
      "outputs": [
        {
          "output_type": "stream",
          "text": [
            "    Options  Percentage_similarity\n",
            "0      modi                   80.0\n",
            "1  manmohan                    0.0\n"
          ],
          "name": "stdout"
        }
      ]
    },
    {
      "cell_type": "code",
      "metadata": {
        "id": "gCI3_FsO8HJV",
        "colab_type": "code",
        "colab": {}
      },
      "source": [
        ""
      ],
      "execution_count": null,
      "outputs": []
    }
  ]
}
