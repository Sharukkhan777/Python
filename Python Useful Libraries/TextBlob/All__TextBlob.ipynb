{
  "nbformat": 4,
  "nbformat_minor": 0,
  "metadata": {
    "colab": {
      "name": "All _TextBlob.ipynb",
      "provenance": []
    },
    "kernelspec": {
      "name": "python3",
      "display_name": "Python 3"
    }
  },
  "cells": [
    {
      "cell_type": "markdown",
      "metadata": {
        "id": "T886EG0ViEkv",
        "colab_type": "text"
      },
      "source": [
        "Contents:\n",
        "**Basic Example only \n",
        "It even contains Classifier and more advanced.**\n",
        "\n",
        "1) Simple Example of Sentiment Analysis\n",
        "\n",
        "2) Tokenization (words and sentences)\n",
        "\n",
        "3) Singular and Plural\n",
        "\n",
        "4) Lemmatize (take the base of the word, \n",
        "Example: Study is the base word of all words Studying, Studied)\n",
        "\n",
        "5) Definitions\n",
        "\n",
        "6) Spelling Correction\n",
        "\n",
        "7) Translate\n",
        "\n",
        "8) Detect Language"
      ]
    },
    {
      "cell_type": "markdown",
      "metadata": {
        "id": "_nuCcEqMiMRo",
        "colab_type": "text"
      },
      "source": [
        "1) Simple Example of Sentiment Analysis"
      ]
    },
    {
      "cell_type": "code",
      "metadata": {
        "id": "XOkJlOQxg_vO",
        "colab_type": "code",
        "colab": {
          "base_uri": "https://localhost:8080/",
          "height": 34
        },
        "outputId": "4eeb47d5-ec5f-4a6d-c1d8-a01a8e22a298"
      },
      "source": [
        "from textblob import TextBlob\n",
        "\n",
        "# input\n",
        "text = \"I love oranges\"\n",
        "\n",
        "# create a object in python\n",
        "obj = TextBlob(text)\n",
        "\n",
        "# from the obj we can use more functions\n",
        "sentiment_analysis = obj.sentiment\n",
        "# sentiment_analysis = obj.sentiment.polarity\n",
        "\n",
        "print(sentiment_analysis) # polarity between (-1,1)"
      ],
      "execution_count": 68,
      "outputs": [
        {
          "output_type": "stream",
          "text": [
            "Sentiment(polarity=0.5, subjectivity=0.6)\n"
          ],
          "name": "stdout"
        }
      ]
    },
    {
      "cell_type": "markdown",
      "metadata": {
        "id": "rbeRf7AYriiY",
        "colab_type": "text"
      },
      "source": [
        "1 = more Subjective\n",
        "\n",
        "0 = more Objective"
      ]
    },
    {
      "cell_type": "code",
      "metadata": {
        "id": "VlZ0LQwYrE8i",
        "colab_type": "code",
        "colab": {
          "base_uri": "https://localhost:8080/",
          "height": 34
        },
        "outputId": "41e0056d-6dd4-4cd9-9d04-760714368ec6"
      },
      "source": [
        "# subjectivity\n",
        "# personal opinion\n",
        "obj = TextBlob(\"I love oranges\")\n",
        "sentiment_analysis = obj.sentiment\n",
        "print(sentiment_analysis)"
      ],
      "execution_count": 69,
      "outputs": [
        {
          "output_type": "stream",
          "text": [
            "Sentiment(polarity=0.5, subjectivity=0.6)\n"
          ],
          "name": "stdout"
        }
      ]
    },
    {
      "cell_type": "code",
      "metadata": {
        "id": "i3LThMzSrWGM",
        "colab_type": "code",
        "colab": {
          "base_uri": "https://localhost:8080/",
          "height": 34
        },
        "outputId": "22b352de-7d54-4612-f310-56cb97f813c4"
      },
      "source": [
        "# objectivity\n",
        "# personal opinion\n",
        "obj = TextBlob(\"These are oranges\")\n",
        "sentiment_analysis = obj.sentiment\n",
        "print(sentiment_analysis)"
      ],
      "execution_count": 70,
      "outputs": [
        {
          "output_type": "stream",
          "text": [
            "Sentiment(polarity=0.0, subjectivity=0.0)\n"
          ],
          "name": "stdout"
        }
      ]
    },
    {
      "cell_type": "markdown",
      "metadata": {
        "id": "yYhvwAf-lu5d",
        "colab_type": "text"
      },
      "source": [
        "2) Tokenization"
      ]
    },
    {
      "cell_type": "code",
      "metadata": {
        "id": "Q85CSAIkhTKs",
        "colab_type": "code",
        "colab": {}
      },
      "source": [
        "zen = TextBlob(\"Beautiful is better than ugly, Explicit is better than implicit. Simple is better than complex.\")"
      ],
      "execution_count": 36,
      "outputs": []
    },
    {
      "cell_type": "code",
      "metadata": {
        "id": "RSluwsvJifES",
        "colab_type": "code",
        "colab": {
          "base_uri": "https://localhost:8080/",
          "height": 52
        },
        "outputId": "10112969-f273-441b-fa37-a428dc3d0f3d"
      },
      "source": [
        "zen.sentences"
      ],
      "execution_count": 37,
      "outputs": [
        {
          "output_type": "execute_result",
          "data": {
            "text/plain": [
              "[Sentence(\"Beautiful is better than ugly, Explicit is better than implicit.\"),\n",
              " Sentence(\"Simple is better than complex.\")]"
            ]
          },
          "metadata": {
            "tags": []
          },
          "execution_count": 37
        }
      ]
    },
    {
      "cell_type": "code",
      "metadata": {
        "id": "Oyq4eJ6PlYDC",
        "colab_type": "code",
        "colab": {
          "base_uri": "https://localhost:8080/",
          "height": 54
        },
        "outputId": "be3d8d83-006d-43f8-8258-9307aa769070"
      },
      "source": [
        "zen.words"
      ],
      "execution_count": 38,
      "outputs": [
        {
          "output_type": "execute_result",
          "data": {
            "text/plain": [
              "WordList(['Beautiful', 'is', 'better', 'than', 'ugly', 'Explicit', 'is', 'better', 'than', 'implicit', 'Simple', 'is', 'better', 'than', 'complex'])"
            ]
          },
          "metadata": {
            "tags": []
          },
          "execution_count": 38
        }
      ]
    },
    {
      "cell_type": "markdown",
      "metadata": {
        "id": "04yujMFVl_Q0",
        "colab_type": "text"
      },
      "source": [
        "3) Singular and Plural"
      ]
    },
    {
      "cell_type": "code",
      "metadata": {
        "id": "btcaRMy7lsUz",
        "colab_type": "code",
        "colab": {
          "base_uri": "https://localhost:8080/",
          "height": 86
        },
        "outputId": "79bb7b47-0698-4c2f-8ceb-b45b3eb0a3c5"
      },
      "source": [
        "from textblob import TextBlob\n",
        "# input\n",
        "text = \"I love oranges and apple\"\n",
        "# create a object in python\n",
        "obj = TextBlob(text)\n",
        "# from the obj we can use more functions\n",
        "print(obj.words[2].singularize())\n",
        "print(obj.words[4].pluralize())\n",
        "# again pluralize the words which is already in plural form\n",
        "print(\"pluralize the words in plural form \\n\",obj.words[2].pluralize())"
      ],
      "execution_count": 44,
      "outputs": [
        {
          "output_type": "stream",
          "text": [
            "orange\n",
            "apples\n",
            "pluralize the words in plural form \n",
            " orangess\n"
          ],
          "name": "stdout"
        }
      ]
    },
    {
      "cell_type": "markdown",
      "metadata": {
        "id": "JRAU3ZO-n5ae",
        "colab_type": "text"
      },
      "source": [
        "4) Lemmatize (take the base of the word, \n",
        "\n",
        "Example: Study is the base word of all words Studying, Studied)"
      ]
    },
    {
      "cell_type": "code",
      "metadata": {
        "id": "HzYls2q2mGoN",
        "colab_type": "code",
        "colab": {
          "base_uri": "https://localhost:8080/",
          "height": 52
        },
        "outputId": "51934fce-37dd-4b85-efa9-b6ba33bc794b"
      },
      "source": [
        "# have to read more in this topic\n",
        "from textblob import Word\n",
        "w = Word(\"octopi\")\n",
        "print(\"For octopi = \",w.lemmatize())\n",
        "w = Word(\"went\")\n",
        "print(\"For went = \",w.lemmatize(\"v\"))  # Pass in WordNet part of speech (verb)"
      ],
      "execution_count": 59,
      "outputs": [
        {
          "output_type": "stream",
          "text": [
            "For octopi =  octopus\n",
            "For went =  go\n"
          ],
          "name": "stdout"
        }
      ]
    },
    {
      "cell_type": "markdown",
      "metadata": {
        "id": "hdOEBm2hp1mk",
        "colab_type": "text"
      },
      "source": [
        "5) Definitions"
      ]
    },
    {
      "cell_type": "code",
      "metadata": {
        "id": "sYpo2-K3nnal",
        "colab_type": "code",
        "colab": {
          "base_uri": "https://localhost:8080/",
          "height": 52
        },
        "outputId": "f92dceda-a8b5-4f38-c3ae-eb28bb87017b"
      },
      "source": [
        "Word(\"octopus\").definitions"
      ],
      "execution_count": 63,
      "outputs": [
        {
          "output_type": "execute_result",
          "data": {
            "text/plain": [
              "['tentacles of octopus prepared as food',\n",
              " 'bottom-living cephalopod having a soft oval body with eight long tentacles']"
            ]
          },
          "metadata": {
            "tags": []
          },
          "execution_count": 63
        }
      ]
    },
    {
      "cell_type": "markdown",
      "metadata": {
        "id": "CGetflmfp__f",
        "colab_type": "text"
      },
      "source": [
        "6) Spelling Correction"
      ]
    },
    {
      "cell_type": "code",
      "metadata": {
        "id": "ghSAlRPupYfc",
        "colab_type": "code",
        "colab": {
          "base_uri": "https://localhost:8080/",
          "height": 34
        },
        "outputId": "8bb163c8-655d-40c2-b3fc-d9fd1ca57363"
      },
      "source": [
        "b = TextBlob(\"I havv goood speling!\")\n",
        "print(b.correct())"
      ],
      "execution_count": 64,
      "outputs": [
        {
          "output_type": "stream",
          "text": [
            "I have good spelling!\n"
          ],
          "name": "stdout"
        }
      ]
    },
    {
      "cell_type": "code",
      "metadata": {
        "id": "lIGmUOlsqCxl",
        "colab_type": "code",
        "colab": {
          "base_uri": "https://localhost:8080/",
          "height": 34
        },
        "outputId": "6da4607c-1f62-4b46-b0c2-b1c40eb060ee"
      },
      "source": [
        "from textblob import Word\n",
        "w = Word('falibility')\n",
        "w.spellcheck() \n",
        "\n",
        "# w.spellcheck(word, confidence)\n",
        "# cant believe this 100% it gives 70% accuracy"
      ],
      "execution_count": 67,
      "outputs": [
        {
          "output_type": "execute_result",
          "data": {
            "text/plain": [
              "[('fallibility', 1.0)]"
            ]
          },
          "metadata": {
            "tags": []
          },
          "execution_count": 67
        }
      ]
    },
    {
      "cell_type": "markdown",
      "metadata": {
        "id": "bqM_XR9LsCry",
        "colab_type": "text"
      },
      "source": [
        "7) **Translate**"
      ]
    },
    {
      "cell_type": "code",
      "metadata": {
        "id": "2PISFKQ4qJ4h",
        "colab_type": "code",
        "colab": {
          "base_uri": "https://localhost:8080/",
          "height": 34
        },
        "outputId": "1a915c72-2f29-4625-fb0d-292f7ec3bca3"
      },
      "source": [
        "b = TextBlob(\"Simple is better than complex\")\n",
        "b.translate(to=\"ta\")"
      ],
      "execution_count": 71,
      "outputs": [
        {
          "output_type": "execute_result",
          "data": {
            "text/plain": [
              "TextBlob(\"சிக்கலானது விட எளிமையானது\")"
            ]
          },
          "metadata": {
            "tags": []
          },
          "execution_count": 71
        }
      ]
    },
    {
      "cell_type": "code",
      "metadata": {
        "id": "pNTtRDScr7XG",
        "colab_type": "code",
        "colab": {
          "base_uri": "https://localhost:8080/",
          "height": 34
        },
        "outputId": "7b56681a-9e6b-486e-e1d7-16524c9899f6"
      },
      "source": [
        "b = TextBlob(\"சிக்கலானது விட எளிமையானது\")\n",
        "b.translate(to=\"en\")"
      ],
      "execution_count": 72,
      "outputs": [
        {
          "output_type": "execute_result",
          "data": {
            "text/plain": [
              "TextBlob(\"Simpler than complex\")"
            ]
          },
          "metadata": {
            "tags": []
          },
          "execution_count": 72
        }
      ]
    },
    {
      "cell_type": "markdown",
      "metadata": {
        "id": "FvtGEo5EsnD2",
        "colab_type": "text"
      },
      "source": [
        "8) Detect Language"
      ]
    },
    {
      "cell_type": "code",
      "metadata": {
        "id": "B1CVH-OpsADP",
        "colab_type": "code",
        "colab": {
          "base_uri": "https://localhost:8080/",
          "height": 34
        },
        "outputId": "141d2145-ef87-45b8-aa95-828d0d02fa0b"
      },
      "source": [
        "b = TextBlob(\"சிக்கலானது விட எளிமையானது\")\n",
        "b.detect_language()"
      ],
      "execution_count": 73,
      "outputs": [
        {
          "output_type": "execute_result",
          "data": {
            "application/vnd.google.colaboratory.intrinsic+json": {
              "type": "string"
            },
            "text/plain": [
              "'ta'"
            ]
          },
          "metadata": {
            "tags": []
          },
          "execution_count": 73
        }
      ]
    },
    {
      "cell_type": "code",
      "metadata": {
        "id": "WkaCYyAOscs6",
        "colab_type": "code",
        "colab": {}
      },
      "source": [
        ""
      ],
      "execution_count": 78,
      "outputs": []
    },
    {
      "cell_type": "code",
      "metadata": {
        "id": "BCktMKics3eR",
        "colab_type": "code",
        "colab": {}
      },
      "source": [
        ""
      ],
      "execution_count": null,
      "outputs": []
    }
  ]
}